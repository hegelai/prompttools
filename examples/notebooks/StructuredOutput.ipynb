{
 "cells": [
  {
   "cell_type": "markdown",
   "id": "c02b0509",
   "metadata": {},
   "source": [
    "# Structured Output Example"
   ]
  },
  {
   "cell_type": "markdown",
   "id": "ab7b247c",
   "metadata": {},
   "source": [
    "## Installations"
   ]
  },
  {
   "cell_type": "code",
   "execution_count": 1,
   "id": "f5e5b81b",
   "metadata": {},
   "outputs": [],
   "source": [
    "# !pip install --quiet --force-reinstall prompttools"
   ]
  },
  {
   "cell_type": "markdown",
   "id": "2eac35f8",
   "metadata": {},
   "source": [
    "## Setup imports and API keys"
   ]
  },
  {
   "cell_type": "markdown",
   "id": "5edba05a",
   "metadata": {},
   "source": [
    "First, we'll need to set our API keys. If we are in DEBUG mode, we don't need to use a real OpenAI key, so for now we'll set them to empty strings."
   ]
  },
  {
   "cell_type": "code",
   "execution_count": 2,
   "id": "ed4e635e",
   "metadata": {},
   "outputs": [],
   "source": [
    "import os\n",
    "\n",
    "os.environ[\"DEBUG\"] = \"1\"  # Set to \"1\" if you want to use debug mode.\n",
    "os.environ[\"OPENAI_API_KEY\"] = \"\""
   ]
  },
  {
   "cell_type": "markdown",
   "id": "df3934db",
   "metadata": {},
   "source": [
    "Then we'll import the relevant `prompttools` modules to setup our experiment."
   ]
  },
  {
   "cell_type": "code",
   "execution_count": 3,
   "id": "f0841dd5",
   "metadata": {},
   "outputs": [],
   "source": [
    "from typing import Dict, Tuple\n",
    "from prompttools.harness import PromptTemplateExperimentationHarness\n",
    "from prompttools.experiment import OpenAICompletionExperiment"
   ]
  },
  {
   "cell_type": "markdown",
   "id": "7b106a04",
   "metadata": {},
   "source": [
    "## Run experiments"
   ]
  },
  {
   "cell_type": "markdown",
   "id": "e43545ff",
   "metadata": {},
   "source": [
    "Next, we create our test inputs. For this example, we'll use a prompt template, which uses [jinja](https://jinja.palletsprojects.com/en/3.1.x/) for templating."
   ]
  },
  {
   "cell_type": "code",
   "execution_count": 4,
   "id": "dbab6b3e",
   "metadata": {},
   "outputs": [],
   "source": [
    "prompt_templates = [\n",
    "    \"Generate valid JSON from the following input: {{input}}\",\n",
    "    \"Generate valid python to complete the following task: {{input}}\",\n",
    "]\n",
    "user_inputs = [\n",
    "    {\"input\": \"The task is to count all the words in a string\"},\n",
    "    {\"input\": \"The task is to add up numbers 1 to 100\"},\n",
    "]"
   ]
  },
  {
   "cell_type": "markdown",
   "id": "9d152fdf",
   "metadata": {},
   "source": [
    "Now we can define an experimentation harness for our inputs and model. We could also pass model arguments if, for example, we wanted to change the model temperature."
   ]
  },
  {
   "cell_type": "code",
   "execution_count": 5,
   "id": "8b3086e6",
   "metadata": {},
   "outputs": [],
   "source": [
    "harness = PromptTemplateExperimentationHarness(\n",
    "    OpenAICompletionExperiment,\n",
    "    \"text-davinci-003\",\n",
    "    prompt_templates,\n",
    "    user_inputs,\n",
    "    # Zero temperature is better for\n",
    "    # structured outputs\n",
    "    model_arguments={\"temperature\": 0},\n",
    ")"
   ]
  },
  {
   "cell_type": "markdown",
   "id": "e6f5463a",
   "metadata": {},
   "source": [
    "We can then run the experiment to get results."
   ]
  },
  {
   "cell_type": "code",
   "execution_count": 6,
   "id": "84304957",
   "metadata": {},
   "outputs": [
    {
     "data": {
      "text/html": [
       "<div>\n",
       "<style scoped>\n",
       "    .dataframe tbody tr th:only-of-type {\n",
       "        vertical-align: middle;\n",
       "    }\n",
       "\n",
       "    .dataframe tbody tr th {\n",
       "        vertical-align: top;\n",
       "    }\n",
       "\n",
       "    .dataframe thead th {\n",
       "        text-align: right;\n",
       "    }\n",
       "</style>\n",
       "<table border=\"1\" class=\"dataframe\">\n",
       "  <thead>\n",
       "    <tr style=\"text-align: right;\">\n",
       "      <th></th>\n",
       "      <th>prompt</th>\n",
       "      <th>response</th>\n",
       "      <th>latency</th>\n",
       "    </tr>\n",
       "  </thead>\n",
       "  <tbody>\n",
       "    <tr>\n",
       "      <th>0</th>\n",
       "      <td>Generate valid JSON from the following input: The task is to count all the words in a string</td>\n",
       "      <td>{\"text\": \"George Washington\"}</td>\n",
       "      <td>0.000015</td>\n",
       "    </tr>\n",
       "    <tr>\n",
       "      <th>1</th>\n",
       "      <td>Generate valid JSON from the following input: The task is to add up numbers 1 to 100</td>\n",
       "      <td>{\"text\": \"George Washington\"}</td>\n",
       "      <td>0.000004</td>\n",
       "    </tr>\n",
       "    <tr>\n",
       "      <th>2</th>\n",
       "      <td>Generate valid python to complete the following task: The task is to count all the words in a string</td>\n",
       "      <td>{\"text\": \"George Washington\"}</td>\n",
       "      <td>0.000003</td>\n",
       "    </tr>\n",
       "    <tr>\n",
       "      <th>3</th>\n",
       "      <td>Generate valid python to complete the following task: The task is to add up numbers 1 to 100</td>\n",
       "      <td>{\"text\": \"George Washington\"}</td>\n",
       "      <td>0.000007</td>\n",
       "    </tr>\n",
       "  </tbody>\n",
       "</table>\n",
       "</div>"
      ],
      "text/plain": [
       "                                                                                                 prompt  \\\n",
       "0  Generate valid JSON from the following input: The task is to count all the words in a string           \n",
       "1  Generate valid JSON from the following input: The task is to add up numbers 1 to 100                   \n",
       "2  Generate valid python to complete the following task: The task is to count all the words in a string   \n",
       "3  Generate valid python to complete the following task: The task is to add up numbers 1 to 100           \n",
       "\n",
       "                        response   latency  \n",
       "0  {\"text\": \"George Washington\"}  0.000015  \n",
       "1  {\"text\": \"George Washington\"}  0.000004  \n",
       "2  {\"text\": \"George Washington\"}  0.000003  \n",
       "3  {\"text\": \"George Washington\"}  0.000007  "
      ]
     },
     "metadata": {},
     "output_type": "display_data"
    }
   ],
   "source": [
    "harness.run()\n",
    "harness.visualize()"
   ]
  },
  {
   "cell_type": "markdown",
   "id": "266c13eb",
   "metadata": {},
   "source": [
    "## Evaluate the model response"
   ]
  },
  {
   "cell_type": "markdown",
   "id": "bebb8023",
   "metadata": {},
   "source": [
    "To evaluate the results, we'll define an eval function. We can use the json and python utilities to validate our responses."
   ]
  },
  {
   "cell_type": "code",
   "execution_count": 7,
   "id": "63de3014",
   "metadata": {},
   "outputs": [],
   "source": [
    "from prompttools.utils import validate_json_response\n",
    "from prompttools.utils import validate_python_response"
   ]
  },
  {
   "cell_type": "markdown",
   "id": "974d6065",
   "metadata": {},
   "source": [
    "Finally, we can evaluate and visualize the results."
   ]
  },
  {
   "cell_type": "code",
   "execution_count": 8,
   "id": "233f25a6",
   "metadata": {
    "scrolled": true
   },
   "outputs": [
    {
     "name": "stderr",
     "output_type": "stream",
     "text": [
      "/Users/kevin/hegel/prompttools/prompttools/utils/validate_python.py:28: DeprecationWarning: 'epylint' will be removed in pylint 3.0, use https://github.com/emacsorphanage/pylint instead.\n",
      "  pylint_stdout, _ = lint.py_run(PROMPTTOOLS_TMP, return_std=True)\n"
     ]
    },
    {
     "data": {
      "text/html": [
       "<div>\n",
       "<style scoped>\n",
       "    .dataframe tbody tr th:only-of-type {\n",
       "        vertical-align: middle;\n",
       "    }\n",
       "\n",
       "    .dataframe tbody tr th {\n",
       "        vertical-align: top;\n",
       "    }\n",
       "\n",
       "    .dataframe thead th {\n",
       "        text-align: right;\n",
       "    }\n",
       "</style>\n",
       "<table border=\"1\" class=\"dataframe\">\n",
       "  <thead>\n",
       "    <tr style=\"text-align: right;\">\n",
       "      <th></th>\n",
       "      <th>prompt</th>\n",
       "      <th>response</th>\n",
       "      <th>latency</th>\n",
       "      <th>is_json</th>\n",
       "      <th>is_python</th>\n",
       "    </tr>\n",
       "  </thead>\n",
       "  <tbody>\n",
       "    <tr>\n",
       "      <th>0</th>\n",
       "      <td>Generate valid JSON from the following input: The task is to count all the words in a string</td>\n",
       "      <td>{\"text\": \"George Washington\"}</td>\n",
       "      <td>0.000015</td>\n",
       "      <td>1.0</td>\n",
       "      <td>1.0</td>\n",
       "    </tr>\n",
       "    <tr>\n",
       "      <th>1</th>\n",
       "      <td>Generate valid JSON from the following input: The task is to add up numbers 1 to 100</td>\n",
       "      <td>{\"text\": \"George Washington\"}</td>\n",
       "      <td>0.000004</td>\n",
       "      <td>1.0</td>\n",
       "      <td>1.0</td>\n",
       "    </tr>\n",
       "    <tr>\n",
       "      <th>2</th>\n",
       "      <td>Generate valid python to complete the following task: The task is to count all the words in a string</td>\n",
       "      <td>{\"text\": \"George Washington\"}</td>\n",
       "      <td>0.000003</td>\n",
       "      <td>1.0</td>\n",
       "      <td>1.0</td>\n",
       "    </tr>\n",
       "    <tr>\n",
       "      <th>3</th>\n",
       "      <td>Generate valid python to complete the following task: The task is to add up numbers 1 to 100</td>\n",
       "      <td>{\"text\": \"George Washington\"}</td>\n",
       "      <td>0.000007</td>\n",
       "      <td>1.0</td>\n",
       "      <td>1.0</td>\n",
       "    </tr>\n",
       "  </tbody>\n",
       "</table>\n",
       "</div>"
      ],
      "text/plain": [
       "                                                                                                 prompt  \\\n",
       "0  Generate valid JSON from the following input: The task is to count all the words in a string           \n",
       "1  Generate valid JSON from the following input: The task is to add up numbers 1 to 100                   \n",
       "2  Generate valid python to complete the following task: The task is to count all the words in a string   \n",
       "3  Generate valid python to complete the following task: The task is to add up numbers 1 to 100           \n",
       "\n",
       "                        response   latency  is_json  is_python  \n",
       "0  {\"text\": \"George Washington\"}  0.000015  1.0      1.0        \n",
       "1  {\"text\": \"George Washington\"}  0.000004  1.0      1.0        \n",
       "2  {\"text\": \"George Washington\"}  0.000003  1.0      1.0        \n",
       "3  {\"text\": \"George Washington\"}  0.000007  1.0      1.0        "
      ]
     },
     "metadata": {},
     "output_type": "display_data"
    }
   ],
   "source": [
    "harness.evaluate(\"is_json\", validate_json_response, {\"response_column_name\": \"response\"})\n",
    "harness.evaluate(\"is_python\", validate_python_response, {\"response_column_name\": \"response\"})\n",
    "harness.visualize()"
   ]
  },
  {
   "cell_type": "code",
   "execution_count": null,
   "id": "7d282f31",
   "metadata": {},
   "outputs": [],
   "source": []
  }
 ],
 "metadata": {
  "kernelspec": {
   "display_name": "Python 3 (ipykernel)",
   "language": "python",
   "name": "python3"
  },
  "language_info": {
   "codemirror_mode": {
    "name": "ipython",
    "version": 3
   },
   "file_extension": ".py",
   "mimetype": "text/x-python",
   "name": "python",
   "nbconvert_exporter": "python",
   "pygments_lexer": "ipython3",
   "version": "3.11.4"
  }
 },
 "nbformat": 4,
 "nbformat_minor": 5
}
