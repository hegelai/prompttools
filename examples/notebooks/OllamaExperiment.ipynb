{
 "cells": [
  {
   "cell_type": "markdown",
   "id": "0a13ddc8",
   "metadata": {},
   "source": [
    "# LlamaCpp Experiment Example"
   ]
  },
  {
   "cell_type": "markdown",
   "id": "c68be7fa",
   "metadata": {},
   "source": [
    "To view this example on Google Colab, see [here](https://colab.research.google.com/github/hegelai/prompttools/blob/main/examples/notebooks/LlamaCppExperiment.ipynb)"
   ]
  },
  {
   "cell_type": "markdown",
   "id": "623f0cfe",
   "metadata": {},
   "source": [
    "## Installations"
   ]
  },
  {
   "cell_type": "code",
   "execution_count": null,
   "id": "885dabeb",
   "metadata": {},
   "outputs": [],
   "source": [
    "# !pip install --quiet --force-reinstall prompttools\n",
    "# run the following command in the terminal\n",
    "# navigate to the following path:/prompttools/prompttools/experiment/experiments/ollama\n",
    "# docker build -t ollama-server . \n",
    "# docker run -i -d -p <desired_port>: 11434 --name ollama_container ollama-server\n",
    "\n",
    "#docker run -i -d -p 8080:11434 --name ollama_container ollama-server"
   ]
  },
  {
   "cell_type": "markdown",
   "id": "2eac35f8",
   "metadata": {},
   "source": [
    "## Setup imports and API keys"
   ]
  },
  {
   "cell_type": "markdown",
   "id": "842f1e47",
   "metadata": {},
   "source": [
    "We'll import the relevant `prompttools` modules to setup our experiment."
   ]
  },
  {
   "cell_type": "code",
   "execution_count": 46,
   "id": "beaa70a1",
   "metadata": {},
   "outputs": [],
   "source": [
    "from typing import Dict, List, Tuple\n",
    "from prompttools import OllamaExperiment\n"
   ]
  },
  {
   "cell_type": "markdown",
   "id": "622dea9a",
   "metadata": {},
   "source": [
    "## Run an experiment"
   ]
  },
  {
   "cell_type": "markdown",
   "id": "3babfe5a",
   "metadata": {},
   "source": [
    "Next, we create our test inputs. We can iterate over models, inputs, and configurations like temperature."
   ]
  },
  {
   "cell_type": "code",
   "execution_count": 47,
   "id": "9114cfbf",
   "metadata": {},
   "outputs": [],
   "source": [
    "\n",
    "prompts = [\n",
    "    \"Who was the first president?\",\n",
    "    \"Who was the first president of the USA?\",\n",
    "]\n",
    "\n",
    "\n",
    "experiment = OllamaExperiment('https://localhost:8080', prompts )"
   ]
  },
  {
   "cell_type": "markdown",
   "id": "f3fa5450",
   "metadata": {},
   "source": [
    "We can then run the experiment to get results."
   ]
  },
  {
   "cell_type": "code",
   "execution_count": 48,
   "id": "83b33130",
   "metadata": {},
   "outputs": [
    {
     "name": "stdout",
     "output_type": "stream",
     "text": [
      "{'prompt': 'Who was the first president?', 'model_name': 'l'}\n"
     ]
    },
    {
     "ename": "AttributeError",
     "evalue": "module 'requests' has no attribute 'post'",
     "output_type": "error",
     "traceback": [
      "\u001b[0;31m---------------------------------------------------------------------------\u001b[0m",
      "\u001b[0;31mAttributeError\u001b[0m                            Traceback (most recent call last)",
      "Cell \u001b[0;32mIn[48], line 1\u001b[0m\n\u001b[0;32m----> 1\u001b[0m experiment\u001b[39m.\u001b[39;49mrun()\n",
      "File \u001b[0;32m~/prompttools/prompttools/experiment/experiments/ollama_experiment.py:122\u001b[0m, in \u001b[0;36mOllamaExperiment.run\u001b[0;34m(self, runs)\u001b[0m\n\u001b[1;32m    120\u001b[0m call_combo[\u001b[39m\"\u001b[39m\u001b[39mclient\u001b[39m\u001b[39m\"\u001b[39m] \u001b[39m=\u001b[39m client\n\u001b[1;32m    121\u001b[0m start \u001b[39m=\u001b[39m perf_counter()\n\u001b[0;32m--> 122\u001b[0m res \u001b[39m=\u001b[39m \u001b[39mself\u001b[39;49m\u001b[39m.\u001b[39;49mcompletion_fn(\u001b[39m*\u001b[39;49m\u001b[39m*\u001b[39;49mcall_combo)\n\u001b[1;32m    123\u001b[0m \u001b[39mself\u001b[39m\u001b[39m.\u001b[39mscores[\u001b[39m\"\u001b[39m\u001b[39mlatency\u001b[39m\u001b[39m\"\u001b[39m]\u001b[39m.\u001b[39mappend(perf_counter() \u001b[39m-\u001b[39m start)\n\u001b[1;32m    124\u001b[0m \u001b[39mself\u001b[39m\u001b[39m.\u001b[39mresults\u001b[39m.\u001b[39mappend(res)\n",
      "File \u001b[0;32m~/prompttools/prompttools/experiment/experiments/ollama_experiment.py:99\u001b[0m, in \u001b[0;36mOllamaExperiment.ollama_completion_fn\u001b[0;34m(self, **params)\u001b[0m\n\u001b[1;32m     97\u001b[0m call_params \u001b[39m=\u001b[39m {k: v \u001b[39mfor\u001b[39;00m k, v \u001b[39min\u001b[39;00m params\u001b[39m.\u001b[39mitems() \u001b[39mif\u001b[39;00m k \u001b[39m!=\u001b[39m \u001b[39m\"\u001b[39m\u001b[39mclient\u001b[39m\u001b[39m\"\u001b[39m}\n\u001b[1;32m     98\u001b[0m \u001b[39mprint\u001b[39m(call_params)\n\u001b[0;32m---> 99\u001b[0m response \u001b[39m=\u001b[39m client(\u001b[39m*\u001b[39;49m\u001b[39m*\u001b[39;49mcall_params)\n\u001b[1;32m    100\u001b[0m \u001b[39mreturn\u001b[39;00m response\n",
      "File \u001b[0;32m~/prompttools/prompttools/experiment/experiments/ollama/ollama_api.py:95\u001b[0m, in \u001b[0;36mOllamaAPI.generate\u001b[0;34m(self, model_name, prompt, logs)\u001b[0m\n\u001b[1;32m     93\u001b[0m data \u001b[39m=\u001b[39m {\u001b[39m\"\u001b[39m\u001b[39mmodel\u001b[39m\u001b[39m\"\u001b[39m: model_name, \u001b[39m\"\u001b[39m\u001b[39mprompt\u001b[39m\u001b[39m\"\u001b[39m: prompt}\n\u001b[1;32m     94\u001b[0m url \u001b[39m=\u001b[39m \u001b[39mf\u001b[39m\u001b[39m\"\u001b[39m\u001b[39m{\u001b[39;00m\u001b[39mself\u001b[39m\u001b[39m.\u001b[39mbase_url\u001b[39m}\u001b[39;00m\u001b[39m/api/generate\u001b[39m\u001b[39m\"\u001b[39m\n\u001b[0;32m---> 95\u001b[0m response \u001b[39m=\u001b[39m requests\u001b[39m.\u001b[39;49mpost(url, json\u001b[39m=\u001b[39mdata,stream\u001b[39m=\u001b[39m\u001b[39mTrue\u001b[39;00m)\n\u001b[1;32m     96\u001b[0m response\u001b[39m.\u001b[39mraise_for_status()\n\u001b[1;32m     97\u001b[0m \u001b[39mif\u001b[39;00m response\u001b[39m.\u001b[39mstatus_code \u001b[39m==\u001b[39m \u001b[39m200\u001b[39m:\n\u001b[1;32m     98\u001b[0m     \u001b[39m# response.json() throws an error, which I think\u001b[39;00m\n",
      "\u001b[0;31mAttributeError\u001b[0m: module 'requests' has no attribute 'post'"
     ]
    }
   ],
   "source": [
    "experiment.run()"
   ]
  },
  {
   "cell_type": "markdown",
   "id": "266c13eb",
   "metadata": {},
   "source": [
    "## Evaluate the model response"
   ]
  },
  {
   "cell_type": "markdown",
   "id": "bebb8023",
   "metadata": {},
   "source": [
    "To evaluate the results, we'll define an eval function. We can use semantic distance to check if the model's response is similar to our expected output."
   ]
  },
  {
   "cell_type": "code",
   "execution_count": 5,
   "id": "8ddbb951",
   "metadata": {},
   "outputs": [],
   "source": [
    "from prompttools.utils import similarity"
   ]
  },
  {
   "cell_type": "code",
   "execution_count": 6,
   "id": "e80dfeec",
   "metadata": {
    "scrolled": true
   },
   "outputs": [],
   "source": [
    "experiment.evaluate(\"similar_to_expected\", similarity.evaluate, expected=\"George Washington\")"
   ]
  },
  {
   "cell_type": "markdown",
   "id": "974d6065",
   "metadata": {},
   "source": [
    "Finally, we can evaluate and visualize the results."
   ]
  },
  {
   "cell_type": "code",
   "execution_count": 7,
   "id": "4d09c18e",
   "metadata": {
    "scrolled": false
   },
   "outputs": [
    {
     "data": {
      "text/html": [
       "<div>\n",
       "<style scoped>\n",
       "    .dataframe tbody tr th:only-of-type {\n",
       "        vertical-align: middle;\n",
       "    }\n",
       "\n",
       "    .dataframe tbody tr th {\n",
       "        vertical-align: top;\n",
       "    }\n",
       "\n",
       "    .dataframe thead th {\n",
       "        text-align: right;\n",
       "    }\n",
       "</style>\n",
       "<table border=\"1\" class=\"dataframe\">\n",
       "  <thead>\n",
       "    <tr style=\"text-align: right;\">\n",
       "      <th></th>\n",
       "      <th>prompt</th>\n",
       "      <th>response(s)</th>\n",
       "      <th>latency</th>\n",
       "      <th>similar_to_expected</th>\n",
       "      <th>model_path</th>\n",
       "      <th>temperature</th>\n",
       "    </tr>\n",
       "  </thead>\n",
       "  <tbody>\n",
       "    <tr>\n",
       "      <th>0</th>\n",
       "      <td>Who was the first president?</td>\n",
       "      <td>[\\nThe first President of the United States was George Washington, who served from 1789 to 1797. He was followed by John Adams, Thomas Jefferson, James Madison, James Monroe, John Quincy Adams, Andrew Jackson, Martin Van Buren, William Henry Harrison, John Tyler, James K. Polk, Zachary Taylor, Millard Fillmore, Franklin Pierce, James Buchanan, Abraham Lincoln, Andrew Johnson, Ulysses S. Grant, Rutherford B. Hayes, James A. Garfield, Chester Arthur, Grover Cleveland,]</td>\n",
       "      <td>19.522219</td>\n",
       "      <td>0.987949</td>\n",
       "      <td>/Users/stevenkrawczyk/Downloads/llama-7b.ggmlv3.q2_K.bin</td>\n",
       "      <td>0.0</td>\n",
       "    </tr>\n",
       "    <tr>\n",
       "      <th>1</th>\n",
       "      <td>Who was the first president of the USA?</td>\n",
       "      <td>[\\nWho was the 1st President of the USA?\\nThe first president of the USA was George Washington. He served as the 1st President from 1789-1796.\\nWhat is the first president of the USA?\\nGeorge Washington, who served as the 1st President of the USA, from 1789 to 1796.\\nWho was the 1st president of the USA in 1789?\\nThe first president of the USA was George Washington, serving from 1789-1796.\\nWhat is]</td>\n",
       "      <td>14.250025</td>\n",
       "      <td>1.094129</td>\n",
       "      <td>/Users/stevenkrawczyk/Downloads/llama-7b.ggmlv3.q2_K.bin</td>\n",
       "      <td>0.0</td>\n",
       "    </tr>\n",
       "    <tr>\n",
       "      <th>2</th>\n",
       "      <td>Who was the first president?</td>\n",
       "      <td>[\\nThe 1st U.S. President George Washington became the president of the United States in 1789, the second leader elected from that year till the time the last one John Fitzgerald Kennedy on the 20th November 1963 passed away because of the assassination committed by a communist activist from Texas Lee Oswald. The first president of the United States is the only leader having had the privilege to lead the country when the constitution was ratified in the year 1787, the first constitutional amendment being created by the congress under the presiden]</td>\n",
       "      <td>14.427517</td>\n",
       "      <td>1.061807</td>\n",
       "      <td>/Users/stevenkrawczyk/Downloads/llama-7b.ggmlv3.q2_K.bin</td>\n",
       "      <td>1.0</td>\n",
       "    </tr>\n",
       "    <tr>\n",
       "      <th>3</th>\n",
       "      <td>Who was the first president of the USA?</td>\n",
       "      <td>[\\nThose who are in the process of becoming US Citizens (and those from whom that citizenship is taken for granted), will often answer by stating “George Washington, 1789-04/26/1900.” However, there were not only presidents whose names they know. Most don’t even mention Thomas Jefferson (who was the second President of the USA, and who wrote the Declaration Of Independence, thus being an important figure in American history).\\n“Thomas-Jefferson” is a person who they should actually, know more about than not. For]</td>\n",
       "      <td>14.226837</td>\n",
       "      <td>1.041451</td>\n",
       "      <td>/Users/stevenkrawczyk/Downloads/llama-7b.ggmlv3.q2_K.bin</td>\n",
       "      <td>1.0</td>\n",
       "    </tr>\n",
       "    <tr>\n",
       "      <th>4</th>\n",
       "      <td>Who was the first president?</td>\n",
       "      <td>[\\nWhat is the name of the 1st President of India?\\nWho was the first president of India?\\nWho was the first Indian president?\\nWho was the first president of India and why?\\nWho was the first president of India and what did he do?\\nWho was the first president of India and his achievements?\\nWho is the 1st President of India?\\nWho is the 2nd President of India?\\nWho is the 3rd President of India?\\nWho is the 4th President of India?\\nWho is the 5th President of India and why?\\nWho]</td>\n",
       "      <td>19.461279</td>\n",
       "      <td>1.030172</td>\n",
       "      <td>/Users/stevenkrawczyk/Downloads/llama-2-7b.ggmlv3.q2_K.bin</td>\n",
       "      <td>0.0</td>\n",
       "    </tr>\n",
       "    <tr>\n",
       "      <th>5</th>\n",
       "      <td>Who was the first president of the USA?</td>\n",
       "      <td>[\\n What is the name of the biggest lake in the world?\\nWhat is the largest country in the world?\\nWhat is the longest river in the world?\\nWhat is the highest mountain in the world?\\nWhat is the most famous building in the world?\\nWhat is the oldest city in the world?\\nWhat is the biggest desert in the world?\\nWhat is the biggest island in the world?\\nWhat is the biggest country in the world?\\nWhat is the biggest river in the world?\\nWhat is the biggest lake in the world?\\nWhat is the highest mountain in the world?\\nWhat is the]</td>\n",
       "      <td>15.025916</td>\n",
       "      <td>1.091784</td>\n",
       "      <td>/Users/stevenkrawczyk/Downloads/llama-2-7b.ggmlv3.q2_K.bin</td>\n",
       "      <td>0.0</td>\n",
       "    </tr>\n",
       "    <tr>\n",
       "      <th>6</th>\n",
       "      <td>Who was the first president?</td>\n",
       "      <td>[\\n What did George Washington do after he became President of the United States of America?\\n What happened to his wooden teeth?\\nWhen a reporter came from Great Britain and interviewed President George Washington, Washington did not think highly of the idea.\\n\"Do you realize that there is one person who has done this more than anyone else?\" Washington told a friend with regard to publicly being interviewed for the first time by a newspaper on December 16, 1784. \"This was never done before in America or Europe, and I think it will be thought ridiculous when it is known that one of]</td>\n",
       "      <td>14.605967</td>\n",
       "      <td>0.949653</td>\n",
       "      <td>/Users/stevenkrawczyk/Downloads/llama-2-7b.ggmlv3.q2_K.bin</td>\n",
       "      <td>1.0</td>\n",
       "    </tr>\n",
       "    <tr>\n",
       "      <th>7</th>\n",
       "      <td>Who was the first president of the USA?</td>\n",
       "      <td>[\\n  It is not true that there are no statues in New York City. Statue Park is in Staten Island, across the river from the big town. A huge warehouse full of human-shaped statues sits on one acre and contains around six thousand old statues (made of wood or bronze). At least four thousand pieces of art come here every year as donations to this strange park.\\nIf you drive on the highway to visit Statue Park, you will be stopped by security guards and asked what you are doing there. The security guy looks at your face, stares at]</td>\n",
       "      <td>15.202058</td>\n",
       "      <td>1.003742</td>\n",
       "      <td>/Users/stevenkrawczyk/Downloads/llama-2-7b.ggmlv3.q2_K.bin</td>\n",
       "      <td>1.0</td>\n",
       "    </tr>\n",
       "  </tbody>\n",
       "</table>\n",
       "</div>"
      ],
      "text/plain": [
       "                                    prompt  \\\n",
       "0  Who was the first president?              \n",
       "1  Who was the first president of the USA?   \n",
       "2  Who was the first president?              \n",
       "3  Who was the first president of the USA?   \n",
       "4  Who was the first president?              \n",
       "5  Who was the first president of the USA?   \n",
       "6  Who was the first president?              \n",
       "7  Who was the first president of the USA?   \n",
       "\n",
       "                                                                                                                                                                                                                                                                                                                                                                                                                                                                                                                                                                                                     response(s)  \\\n",
       "0  [\\nThe first President of the United States was George Washington, who served from 1789 to 1797. He was followed by John Adams, Thomas Jefferson, James Madison, James Monroe, John Quincy Adams, Andrew Jackson, Martin Van Buren, William Henry Harrison, John Tyler, James K. Polk, Zachary Taylor, Millard Fillmore, Franklin Pierce, James Buchanan, Abraham Lincoln, Andrew Johnson, Ulysses S. Grant, Rutherford B. Hayes, James A. Garfield, Chester Arthur, Grover Cleveland,]                                                                                                                         \n",
       "1  [\\nWho was the 1st President of the USA?\\nThe first president of the USA was George Washington. He served as the 1st President from 1789-1796.\\nWhat is the first president of the USA?\\nGeorge Washington, who served as the 1st President of the USA, from 1789 to 1796.\\nWho was the 1st president of the USA in 1789?\\nThe first president of the USA was George Washington, serving from 1789-1796.\\nWhat is]                                                                                                                                                                                              \n",
       "2  [\\nThe 1st U.S. President George Washington became the president of the United States in 1789, the second leader elected from that year till the time the last one John Fitzgerald Kennedy on the 20th November 1963 passed away because of the assassination committed by a communist activist from Texas Lee Oswald. The first president of the United States is the only leader having had the privilege to lead the country when the constitution was ratified in the year 1787, the first constitutional amendment being created by the congress under the presiden]                                       \n",
       "3  [\\nThose who are in the process of becoming US Citizens (and those from whom that citizenship is taken for granted), will often answer by stating “George Washington, 1789-04/26/1900.” However, there were not only presidents whose names they know. Most don’t even mention Thomas Jefferson (who was the second President of the USA, and who wrote the Declaration Of Independence, thus being an important figure in American history).\\n“Thomas-Jefferson” is a person who they should actually, know more about than not. For]                                                                          \n",
       "4  [\\nWhat is the name of the 1st President of India?\\nWho was the first president of India?\\nWho was the first Indian president?\\nWho was the first president of India and why?\\nWho was the first president of India and what did he do?\\nWho was the first president of India and his achievements?\\nWho is the 1st President of India?\\nWho is the 2nd President of India?\\nWho is the 3rd President of India?\\nWho is the 4th President of India?\\nWho is the 5th President of India and why?\\nWho]                                                                                                           \n",
       "5  [\\n What is the name of the biggest lake in the world?\\nWhat is the largest country in the world?\\nWhat is the longest river in the world?\\nWhat is the highest mountain in the world?\\nWhat is the most famous building in the world?\\nWhat is the oldest city in the world?\\nWhat is the biggest desert in the world?\\nWhat is the biggest island in the world?\\nWhat is the biggest country in the world?\\nWhat is the biggest river in the world?\\nWhat is the biggest lake in the world?\\nWhat is the highest mountain in the world?\\nWhat is the]                                                         \n",
       "6  [\\n What did George Washington do after he became President of the United States of America?\\n What happened to his wooden teeth?\\nWhen a reporter came from Great Britain and interviewed President George Washington, Washington did not think highly of the idea.\\n\"Do you realize that there is one person who has done this more than anyone else?\" Washington told a friend with regard to publicly being interviewed for the first time by a newspaper on December 16, 1784. \"This was never done before in America or Europe, and I think it will be thought ridiculous when it is known that one of]   \n",
       "7  [\\n  It is not true that there are no statues in New York City. Statue Park is in Staten Island, across the river from the big town. A huge warehouse full of human-shaped statues sits on one acre and contains around six thousand old statues (made of wood or bronze). At least four thousand pieces of art come here every year as donations to this strange park.\\nIf you drive on the highway to visit Statue Park, you will be stopped by security guards and asked what you are doing there. The security guy looks at your face, stares at]                                                           \n",
       "\n",
       "     latency  similar_to_expected  \\\n",
       "0  19.522219  0.987949              \n",
       "1  14.250025  1.094129              \n",
       "2  14.427517  1.061807              \n",
       "3  14.226837  1.041451              \n",
       "4  19.461279  1.030172              \n",
       "5  15.025916  1.091784              \n",
       "6  14.605967  0.949653              \n",
       "7  15.202058  1.003742              \n",
       "\n",
       "                                                   model_path  temperature  \n",
       "0  /Users/stevenkrawczyk/Downloads/llama-7b.ggmlv3.q2_K.bin    0.0          \n",
       "1  /Users/stevenkrawczyk/Downloads/llama-7b.ggmlv3.q2_K.bin    0.0          \n",
       "2  /Users/stevenkrawczyk/Downloads/llama-7b.ggmlv3.q2_K.bin    1.0          \n",
       "3  /Users/stevenkrawczyk/Downloads/llama-7b.ggmlv3.q2_K.bin    1.0          \n",
       "4  /Users/stevenkrawczyk/Downloads/llama-2-7b.ggmlv3.q2_K.bin  0.0          \n",
       "5  /Users/stevenkrawczyk/Downloads/llama-2-7b.ggmlv3.q2_K.bin  0.0          \n",
       "6  /Users/stevenkrawczyk/Downloads/llama-2-7b.ggmlv3.q2_K.bin  1.0          \n",
       "7  /Users/stevenkrawczyk/Downloads/llama-2-7b.ggmlv3.q2_K.bin  1.0          "
      ]
     },
     "metadata": {},
     "output_type": "display_data"
    }
   ],
   "source": [
    "experiment.visualize()"
   ]
  },
  {
   "cell_type": "code",
   "execution_count": null,
   "id": "c60a16c3",
   "metadata": {},
   "outputs": [],
   "source": []
  }
 ],
 "metadata": {
  "kernelspec": {
   "display_name": "Python 3 (ipykernel)",
   "language": "python",
   "name": "python3"
  },
  "language_info": {
   "codemirror_mode": {
    "name": "ipython",
    "version": 3
   },
   "file_extension": ".py",
   "mimetype": "text/x-python",
   "name": "python",
   "nbconvert_exporter": "python",
   "pygments_lexer": "ipython3",
   "version": "3.11.4"
  }
 },
 "nbformat": 4,
 "nbformat_minor": 5
}
