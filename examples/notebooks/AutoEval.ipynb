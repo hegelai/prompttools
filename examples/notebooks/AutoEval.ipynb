{
 "cells": [
  {
   "cell_type": "markdown",
   "id": "a7dea195",
   "metadata": {},
   "source": [
    "# Auto-Evaluation Example"
   ]
  },
  {
   "cell_type": "markdown",
   "id": "257a92b2",
   "metadata": {},
   "source": [
    "To view this example on Google Colab, see [here](https://colab.research.google.com/github/hegelai/prompttools/blob/main/examples/notebooks/AutoEval.ipynb)."
   ]
  },
  {
   "cell_type": "markdown",
   "id": "edfec7c8",
   "metadata": {},
   "source": [
    "## Installations"
   ]
  },
  {
   "cell_type": "code",
   "execution_count": 1,
   "id": "c84ab4f7",
   "metadata": {},
   "outputs": [],
   "source": [
    "# !pip install --quiet --force-reinstall prompttools"
   ]
  },
  {
   "cell_type": "markdown",
   "id": "6a80e19b",
   "metadata": {},
   "source": [
    "## Setup imports and API keys"
   ]
  },
  {
   "cell_type": "markdown",
   "id": "28f1521a",
   "metadata": {},
   "source": [
    "First, we'll need to set our API keys. If we are in DEBUG mode, we don't need to use a real OpenAI key, so for now we'll set them to empty strings."
   ]
  },
  {
   "cell_type": "code",
   "execution_count": 9,
   "id": "1eb85245",
   "metadata": {},
   "outputs": [],
   "source": [
    "import os\n",
    "\n",
    "os.environ[\"DEBUG\"] = \"1\"  # Set to \"1\" if you want to use debug mode.\n",
    "os.environ[\"OPENAI_API_KEY\"] = \"\""
   ]
  },
  {
   "cell_type": "markdown",
   "id": "497ac0bb",
   "metadata": {},
   "source": [
    "Then we'll import the relevant `prompttools` modules to set up our experiment."
   ]
  },
  {
   "cell_type": "code",
   "execution_count": 3,
   "id": "ad3859e7",
   "metadata": {},
   "outputs": [],
   "source": [
    "from typing import Dict\n",
    "from prompttools.harness import PromptTemplateExperimentationHarness\n",
    "from prompttools.experiment import OpenAICompletionExperiment\n",
    "from prompttools.selector.prompt_selector import PromptSelector"
   ]
  },
  {
   "cell_type": "markdown",
   "id": "ffcfbb5b",
   "metadata": {},
   "source": [
    "## Run experiments"
   ]
  },
  {
   "cell_type": "markdown",
   "id": "f517570f",
   "metadata": {},
   "source": [
    "Next, we create our test inputs. For this example, we'll use a prompt template, which uses [jinja](https://jinja.palletsprojects.com/en/3.1.x/) for templating."
   ]
  },
  {
   "cell_type": "code",
   "execution_count": 4,
   "id": "29408faa",
   "metadata": {},
   "outputs": [],
   "source": [
    "instructions = [\n",
    "    \"\"\"\n",
    "Answer the following question. \n",
    "If it is not prime, give its decomposition.\n",
    "\"\"\",\n",
    "    \"\"\"\n",
    "Answer the following question.\n",
    "\"\"\",\n",
    "]\n",
    "\n",
    "inputs = [{\"input\": \"is 17077 a prime number\"}, {\"input\": \"Is 17077 prime?\"}]\n",
    "\n",
    "selectors = [PromptSelector(instructions[i], inputs[j]) for i in range(len(instructions)) for j in range(len(inputs))]"
   ]
  },
  {
   "cell_type": "markdown",
   "id": "0c9a1777",
   "metadata": {},
   "source": [
    "Now we can define an experimentation harness for our inputs and model. We could also pass model arguments if, for example, we wanted to change the model temperature."
   ]
  },
  {
   "cell_type": "code",
   "execution_count": 5,
   "id": "69159622",
   "metadata": {},
   "outputs": [],
   "source": [
    "experiment = OpenAICompletionExperiment([\"text-davinci-003\"], selectors)"
   ]
  },
  {
   "cell_type": "markdown",
   "id": "af04bd60",
   "metadata": {},
   "source": [
    "We can then run the experiment to get results."
   ]
  },
  {
   "cell_type": "code",
   "execution_count": 6,
   "id": "744ab156",
   "metadata": {},
   "outputs": [
    {
     "data": {
      "text/html": [
       "<div>\n",
       "<style scoped>\n",
       "    .dataframe tbody tr th:only-of-type {\n",
       "        vertical-align: middle;\n",
       "    }\n",
       "\n",
       "    .dataframe tbody tr th {\n",
       "        vertical-align: top;\n",
       "    }\n",
       "\n",
       "    .dataframe thead th {\n",
       "        text-align: right;\n",
       "    }\n",
       "</style>\n",
       "<table border=\"1\" class=\"dataframe\">\n",
       "  <thead>\n",
       "    <tr style=\"text-align: right;\">\n",
       "      <th></th>\n",
       "      <th>prompt</th>\n",
       "      <th>response(s)</th>\n",
       "      <th>latency</th>\n",
       "    </tr>\n",
       "  </thead>\n",
       "  <tbody>\n",
       "    <tr>\n",
       "      <th>0</th>\n",
       "      <td>\\nAnswer the following question. \\nIf it is not prime, give its decomposition.</td>\n",
       "      <td>\\n\\n93\\nIt is not a prime number, its decomposition is 3</td>\n",
       "      <td>1.993576</td>\n",
       "    </tr>\n",
       "    <tr>\n",
       "      <th>1</th>\n",
       "      <td>\\nAnswer the following question. \\nIf it is not prime, give its decomposition.</td>\n",
       "      <td>\\n\\n45\\n\\n45 = 3 x 3 x 5</td>\n",
       "      <td>0.908900</td>\n",
       "    </tr>\n",
       "    <tr>\n",
       "      <th>2</th>\n",
       "      <td>\\nAnswer the following question.</td>\n",
       "      <td>\\n\\nWhat is the meaning of the phrase \"catching some z's\"?\\n</td>\n",
       "      <td>0.922788</td>\n",
       "    </tr>\n",
       "    <tr>\n",
       "      <th>3</th>\n",
       "      <td>\\nAnswer the following question.</td>\n",
       "      <td>\\n\\nIn what ways might information literacy skills help students succeed in their studies?</td>\n",
       "      <td>1.075018</td>\n",
       "    </tr>\n",
       "  </tbody>\n",
       "</table>\n",
       "</div>"
      ],
      "text/plain": [
       "                                                                           prompt  \\\n",
       "0  \\nAnswer the following question. \\nIf it is not prime, give its decomposition.   \n",
       "1  \\nAnswer the following question. \\nIf it is not prime, give its decomposition.   \n",
       "2  \\nAnswer the following question.                                                 \n",
       "3  \\nAnswer the following question.                                                 \n",
       "\n",
       "                                                                                  response(s)  \\\n",
       "0  \\n\\n93\\nIt is not a prime number, its decomposition is 3                                     \n",
       "1  \\n\\n45\\n\\n45 = 3 x 3 x 5                                                                     \n",
       "2  \\n\\nWhat is the meaning of the phrase \"catching some z's\"?\\n                                 \n",
       "3  \\n\\nIn what ways might information literacy skills help students succeed in their studies?   \n",
       "\n",
       "    latency  \n",
       "0  1.993576  \n",
       "1  0.908900  \n",
       "2  0.922788  \n",
       "3  1.075018  "
      ]
     },
     "metadata": {},
     "output_type": "display_data"
    }
   ],
   "source": [
    "experiment.run()\n",
    "experiment.visualize()"
   ]
  },
  {
   "cell_type": "markdown",
   "id": "89cd320e",
   "metadata": {},
   "source": [
    "## Auto-Evaluate the model response"
   ]
  },
  {
   "cell_type": "markdown",
   "id": "c36767bd",
   "metadata": {},
   "source": [
    "To evaluate the model response, we can define an eval method that passes the input and response into another LLM to get feedback."
   ]
  },
  {
   "cell_type": "code",
   "execution_count": 7,
   "id": "8fe03c31",
   "metadata": {},
   "outputs": [],
   "source": [
    "from prompttools.utils import autoeval_binary_scoring"
   ]
  },
  {
   "cell_type": "markdown",
   "id": "3008b09e",
   "metadata": {},
   "source": [
    "Finally, we can evaluate and visualize the results."
   ]
  },
  {
   "cell_type": "code",
   "execution_count": 8,
   "id": "4633f802",
   "metadata": {},
   "outputs": [
    {
     "data": {
      "text/html": [
       "<div>\n",
       "<style scoped>\n",
       "    .dataframe tbody tr th:only-of-type {\n",
       "        vertical-align: middle;\n",
       "    }\n",
       "\n",
       "    .dataframe tbody tr th {\n",
       "        vertical-align: top;\n",
       "    }\n",
       "\n",
       "    .dataframe thead th {\n",
       "        text-align: right;\n",
       "    }\n",
       "</style>\n",
       "<table border=\"1\" class=\"dataframe\">\n",
       "  <thead>\n",
       "    <tr style=\"text-align: right;\">\n",
       "      <th></th>\n",
       "      <th>prompt</th>\n",
       "      <th>response(s)</th>\n",
       "      <th>latency</th>\n",
       "      <th>followed_directions</th>\n",
       "    </tr>\n",
       "  </thead>\n",
       "  <tbody>\n",
       "    <tr>\n",
       "      <th>0</th>\n",
       "      <td>\\nAnswer the following question. \\nIf it is not prime, give its decomposition.</td>\n",
       "      <td>\\n\\n93\\nIt is not a prime number, its decomposition is 3</td>\n",
       "      <td>1.993576</td>\n",
       "      <td>0.0</td>\n",
       "    </tr>\n",
       "    <tr>\n",
       "      <th>1</th>\n",
       "      <td>\\nAnswer the following question. \\nIf it is not prime, give its decomposition.</td>\n",
       "      <td>\\n\\n45\\n\\n45 = 3 x 3 x 5</td>\n",
       "      <td>0.908900</td>\n",
       "      <td>1.0</td>\n",
       "    </tr>\n",
       "    <tr>\n",
       "      <th>2</th>\n",
       "      <td>\\nAnswer the following question.</td>\n",
       "      <td>\\n\\nWhat is the meaning of the phrase \"catching some z's\"?\\n</td>\n",
       "      <td>0.922788</td>\n",
       "      <td>0.0</td>\n",
       "    </tr>\n",
       "    <tr>\n",
       "      <th>3</th>\n",
       "      <td>\\nAnswer the following question.</td>\n",
       "      <td>\\n\\nIn what ways might information literacy skills help students succeed in their studies?</td>\n",
       "      <td>1.075018</td>\n",
       "      <td>0.0</td>\n",
       "    </tr>\n",
       "  </tbody>\n",
       "</table>\n",
       "</div>"
      ],
      "text/plain": [
       "                                                                           prompt  \\\n",
       "0  \\nAnswer the following question. \\nIf it is not prime, give its decomposition.   \n",
       "1  \\nAnswer the following question. \\nIf it is not prime, give its decomposition.   \n",
       "2  \\nAnswer the following question.                                                 \n",
       "3  \\nAnswer the following question.                                                 \n",
       "\n",
       "                                                                                  response(s)  \\\n",
       "0  \\n\\n93\\nIt is not a prime number, its decomposition is 3                                     \n",
       "1  \\n\\n45\\n\\n45 = 3 x 3 x 5                                                                     \n",
       "2  \\n\\nWhat is the meaning of the phrase \"catching some z's\"?\\n                                 \n",
       "3  \\n\\nIn what ways might information literacy skills help students succeed in their studies?   \n",
       "\n",
       "    latency  followed_directions  \n",
       "0  1.993576  0.0                  \n",
       "1  0.908900  1.0                  \n",
       "2  0.922788  0.0                  \n",
       "3  1.075018  0.0                  "
      ]
     },
     "metadata": {},
     "output_type": "display_data"
    }
   ],
   "source": [
    "experiment.evaluate(\"followed_directions\", autoeval_binary_scoring, {\"prompt_column_name\": \"prompt\"})\n",
    "experiment.visualize()"
   ]
  },
  {
   "cell_type": "code",
   "execution_count": null,
   "id": "803d65f4",
   "metadata": {},
   "outputs": [],
   "source": []
  }
 ],
 "metadata": {
  "kernelspec": {
   "display_name": "Python 3 (ipykernel)",
   "language": "python",
   "name": "python3"
  },
  "language_info": {
   "codemirror_mode": {
    "name": "ipython",
    "version": 3
   },
   "file_extension": ".py",
   "mimetype": "text/x-python",
   "name": "python",
   "nbconvert_exporter": "python",
   "pygments_lexer": "ipython3",
   "version": "3.11.4"
  }
 },
 "nbformat": 4,
 "nbformat_minor": 5
}
