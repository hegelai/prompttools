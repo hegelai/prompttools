{
 "cells": [
  {
   "cell_type": "markdown",
   "id": "0a13ddc8",
   "metadata": {},
   "source": [
    "# GPT-4 regression testing"
   ]
  },
  {
   "cell_type": "markdown",
   "id": "780dc3bf",
   "metadata": {},
   "source": [
    "Did GPT-4 get worse? Run this notebook to find out.\n",
    "\n",
    "We'll use a structured output validation to compare the most recent version of GPT-4 to older frozen versions on a few tasks.\n",
    "\n",
    "If you want to run this notebook in Google Colab, see [here](https://colab.research.google.com/github/hegelai/prompttools/blob/main/examples/notebooks/GPT4RegressionTesting.ipynb)"
   ]
  },
  {
   "cell_type": "markdown",
   "id": "623f0cfe",
   "metadata": {},
   "source": [
    "## Installations"
   ]
  },
  {
   "cell_type": "markdown",
   "id": "52881369",
   "metadata": {},
   "source": [
    "You can setup prompttools either by installing via `pip` or using `python setup.py develop` in the root of this repo. Either way, you'll need to restart the kernel after the package is installed."
   ]
  },
  {
   "cell_type": "code",
   "execution_count": 1,
   "id": "885dabeb",
   "metadata": {},
   "outputs": [],
   "source": [
    "# !pip install --quiet --force-reinstall prompttools"
   ]
  },
  {
   "cell_type": "markdown",
   "id": "2eac35f8",
   "metadata": {},
   "source": [
    "## Setup imports and API keys"
   ]
  },
  {
   "cell_type": "markdown",
   "id": "5edba05a",
   "metadata": {},
   "source": [
    "Next, we'll need to set our API keys. Since we want to use GPT-4 for auto-eval, we need to set that one."
   ]
  },
  {
   "cell_type": "code",
   "execution_count": 2,
   "id": "ed4e635e",
   "metadata": {},
   "outputs": [],
   "source": [
    "import os\n",
    "\n",
    "os.environ[\"DEBUG\"] = \"\"\n",
    "os.environ[\"OPENAI_API_KEY\"] = \"\""
   ]
  },
  {
   "cell_type": "markdown",
   "id": "842f1e47",
   "metadata": {},
   "source": [
    "Then we'll import the relevant `prompttools` modules to setup our experiment."
   ]
  },
  {
   "cell_type": "code",
   "execution_count": 3,
   "id": "beaa70a1",
   "metadata": {},
   "outputs": [],
   "source": [
    "from typing import Dict, List, Tuple\n",
    "from prompttools.experiment import OpenAIChatExperiment\n",
    "from prompttools.selector.prompt_selector import PromptSelector"
   ]
  },
  {
   "cell_type": "markdown",
   "id": "622dea9a",
   "metadata": {},
   "source": [
    "## Run an experiment"
   ]
  },
  {
   "cell_type": "markdown",
   "id": "0cd0bae8",
   "metadata": {},
   "source": [
    "To set up this experiment, we'll use a `PromptSelector`. This makes it easy to format prompts for chat models."
   ]
  },
  {
   "cell_type": "code",
   "execution_count": null,
   "id": "2788d49f",
   "metadata": {},
   "outputs": [],
   "source": [
    "instructions = [\n",
    "    \"\"\"\n",
    "You are a helpful assistant.\n",
    "\"\"\",\n",
    "    \"\"\"\n",
    "You are a math tutor. When given a math question, talk through each step \n",
    "of your thought process before arriving at the answer. \n",
    "\"\"\",\n",
    "]\n",
    "inputs = [\n",
    "    \"\"\"\n",
    "Is 17 a prime number?\n",
    "\"\"\",\n",
    "    \"\"\"\n",
    "Is 45 a prime number?\n",
    "\"\"\",\n",
    "    \"\"\"\n",
    "Is 17077 a prime number?\n",
    "\"\"\",\n",
    "    \"\"\"\n",
    "Is 26 a prime number?\n",
    "\"\"\",\n",
    "]\n",
    "selectors = [PromptSelector(instructions[i], inputs[j]) for i in range(len(instructions)) for j in range(len(inputs))]"
   ]
  },
  {
   "cell_type": "markdown",
   "id": "3babfe5a",
   "metadata": {},
   "source": [
    "Next, we create our test inputs. We can iterate over models, inputs, and configurations like temperature."
   ]
  },
  {
   "cell_type": "code",
   "execution_count": null,
   "id": "8fe83830",
   "metadata": {},
   "outputs": [],
   "source": [
    "models = [\"gpt-4-0314\", \"gpt-4-0613\", \"gpt-4\"]\n",
    "temperatures = [0.0]\n",
    "openai_experiment = OpenAIChatExperiment(models, selectors, temperature=temperatures)"
   ]
  },
  {
   "cell_type": "markdown",
   "id": "6c3162e6",
   "metadata": {},
   "source": [
    "After that - we can run our experiment."
   ]
  },
  {
   "cell_type": "code",
   "execution_count": null,
   "id": "0f22ebd7",
   "metadata": {
    "scrolled": true
   },
   "outputs": [],
   "source": [
    "openai_experiment.prepare()\n",
    "openai_experiment.run()"
   ]
  },
  {
   "cell_type": "code",
   "execution_count": null,
   "id": "9b545e33",
   "metadata": {},
   "outputs": [],
   "source": [
    "openai_experiment.visualize()"
   ]
  },
  {
   "cell_type": "markdown",
   "id": "2ceb662a",
   "metadata": {},
   "source": [
    "Finally, we define an evaluation function that can be used to evaluate outputs across different models. Notice that we pass an array of `expected` values corresponding to each LLM response."
   ]
  },
  {
   "cell_type": "code",
   "execution_count": null,
   "id": "8ddbb951",
   "metadata": {},
   "outputs": [],
   "source": [
    "from prompttools.utils import autoeval_from_expected_response"
   ]
  },
  {
   "cell_type": "code",
   "execution_count": null,
   "id": "e80dfeec",
   "metadata": {
    "scrolled": true
   },
   "outputs": [],
   "source": [
    "openai_experiment.evaluate(\n",
    "    \"auto-evaluation\", autoeval_from_expected_response, {\"prompt_column_name\": \"messages\"}, expected=[\"YES\", \"NO\"] * 12\n",
    ")"
   ]
  },
  {
   "cell_type": "markdown",
   "id": "974d6065",
   "metadata": {},
   "source": [
    "Finally, we can visualize the results."
   ]
  },
  {
   "cell_type": "code",
   "execution_count": null,
   "id": "4d09c18e",
   "metadata": {
    "scrolled": false
   },
   "outputs": [],
   "source": [
    "openai_experiment.visualize()"
   ]
  },
  {
   "cell_type": "markdown",
   "id": "36fa7a07",
   "metadata": {},
   "source": [
    "Finally, we can aggregate the metrics for each model."
   ]
  },
  {
   "cell_type": "code",
   "execution_count": null,
   "id": "9ee8dc43",
   "metadata": {},
   "outputs": [],
   "source": [
    "openai_experiment.aggregate(metric_name=\"auto-evaluation\", column_name=\"model\")"
   ]
  },
  {
   "cell_type": "code",
   "execution_count": null,
   "id": "1c90958d",
   "metadata": {},
   "outputs": [],
   "source": [
    "openai_experiment.aggregate(metric_name=\"latency\", column_name=\"model\")"
   ]
  },
  {
   "cell_type": "code",
   "execution_count": 4,
   "id": "c6b9e58f",
   "metadata": {},
   "outputs": [],
   "source": [
    "instructions = [\n",
    "    \"\"\"\n",
    "You are a math tutor. When given a math question, talk through each step \n",
    "of your thought process before arriving at the answer. \n",
    "\"\"\"\n",
    "]\n",
    "inputs = [\n",
    "    \"\"\"\n",
    "Is 17077 a prime number?\n",
    "\"\"\",\n",
    "    \"\"\"\n",
    "Is 26 a prime number?\n",
    "\"\"\",\n",
    "]\n",
    "selectors = [PromptSelector(instructions[i], inputs[j]) for i in range(len(instructions)) for j in range(len(inputs))]\n",
    "models = [\"gpt-4-0314\", \"gpt-4-0613\", \"gpt-4\"]\n",
    "temperatures = [0.0]\n",
    "openai_experiment = OpenAIChatExperiment(models, selectors, temperature=temperatures)\n",
    "openai_experiment.prepare()\n",
    "openai_experiment.run()"
   ]
  },
  {
   "cell_type": "code",
   "execution_count": 5,
   "id": "6d85051d",
   "metadata": {},
   "outputs": [
    {
     "data": {
      "text/html": [
       "<div>\n",
       "<style scoped>\n",
       "    .dataframe tbody tr th:only-of-type {\n",
       "        vertical-align: middle;\n",
       "    }\n",
       "\n",
       "    .dataframe tbody tr th {\n",
       "        vertical-align: top;\n",
       "    }\n",
       "\n",
       "    .dataframe thead th {\n",
       "        text-align: right;\n",
       "    }\n",
       "</style>\n",
       "<table border=\"1\" class=\"dataframe\">\n",
       "  <thead>\n",
       "    <tr style=\"text-align: right;\">\n",
       "      <th></th>\n",
       "      <th>messages</th>\n",
       "      <th>response(s)</th>\n",
       "      <th>latency</th>\n",
       "      <th>model</th>\n",
       "    </tr>\n",
       "  </thead>\n",
       "  <tbody>\n",
       "    <tr>\n",
       "      <th>0</th>\n",
       "      <td>[{'role': 'system', 'content': '\n",
       "You are a math tutor. When given a math question, talk through each step \n",
       "of your thought process before arriving at the answer. \n",
       "'}, {'role': 'user', 'content': '\n",
       "Is 17077 a prime number?\n",
       "'}]</td>\n",
       "      <td>To determine if 17077 is a prime number, we need to check if it has any divisors other than 1 and itself. A prime number is a number that can only be divided by 1 and itself without leaving a remainder.\\n\\nStep 1: Check for divisibility by 2\\nSince 17077 is an odd number (it ends in 7), it is not divisible by 2.\\n\\nStep 2: Check for divisibility by 3\\nTo check for divisibility by 3, we can add up the digits of the number (1 + 7 + 0 + 7 + 7 = 22) and see if the sum is divisible by 3. Since 22 is not divisible by 3, 17077 is not divisible by 3.\\n\\nStep 3: Check for divisibility by other prime numbers\\nWe can now check for divisibility by other prime numbers up to the square root of 17077. The square root of 17077 is approximately 130.6, so we only need to check for divisibility by prime numbers up to 130.\\n\\nWe've already checked for divisibility by 2 and 3, so we'll continue with the next prime numbers: 5, 7, 11, 13, 17, 19, 23, 29, 31, 37, 41, 43, 47, 53, 59, 61, 67, 71, 73, 79, 83, 89, 97, 101, 103, 107, 109, 113, 127.\\n\\nStep 4: Check for divisibility by each prime number\\n17077 is not divisible by 5 (it doesn't end in 0 or 5).\\n17077 is not divisible by 7 (17077 ÷ 7 ≈ 2439.57).\\n17077 is not divisible by 11 (17077 ÷ 11 ≈ 1552.45).\\n17077 is not divisible by 13 (17077 ÷ 13 ≈ 1313.62).\\n\\nHowever, when we check for divisibility by 17, we find that 17077 ÷ 17 = 1004.53, which is very close to a whole number. In fact, 17077 ÷ 17 = 1005, with a small error in the previous calculation. So, 17077 is divisible by 17 (17 * 1005 = 17077).\\n\\nSince 17077 has divisors other than 1 and itself (17 and 1005), it is not a prime number.</td>\n",
       "      <td>22.004887</td>\n",
       "      <td>gpt-4-0314</td>\n",
       "    </tr>\n",
       "    <tr>\n",
       "      <th>1</th>\n",
       "      <td>[{'role': 'system', 'content': '\n",
       "You are a math tutor. When given a math question, talk through each step \n",
       "of your thought process before arriving at the answer. \n",
       "'}, {'role': 'user', 'content': '\n",
       "Is 26 a prime number?\n",
       "'}]</td>\n",
       "      <td>To determine if 26 is a prime number, we need to check if it has any factors other than 1 and itself. A prime number is a number that can only be divided by 1 and itself without leaving a remainder.\\n\\nStep 1: Identify the smallest prime number, which is 2.\\n\\nStep 2: Check if 26 is divisible by 2. To do this, divide 26 by 2:\\n26 ÷ 2 = 13\\n\\nSince 26 can be divided by 2 without leaving a remainder, it means that 26 has factors other than 1 and itself (2 and 13).\\n\\nTherefore, 26 is not a prime number.</td>\n",
       "      <td>5.219352</td>\n",
       "      <td>gpt-4-0314</td>\n",
       "    </tr>\n",
       "    <tr>\n",
       "      <th>2</th>\n",
       "      <td>[{'role': 'system', 'content': '\n",
       "You are a math tutor. When given a math question, talk through each step \n",
       "of your thought process before arriving at the answer. \n",
       "'}, {'role': 'user', 'content': '\n",
       "Is 17077 a prime number?\n",
       "'}]</td>\n",
       "      <td>To determine if a number is prime, we need to check if it has any divisors other than 1 and itself. A prime number is a number that has exactly two distinct positive divisors: 1 and itself.\\n\\nThe first step in determining if a number is prime is to find its square root. The square root of 17077 is approximately 130.68. This is because any factor of 17077 must be less than or equal to its square root. \\n\\nNext, we check if 17077 can be divided evenly by any prime numbers less than 130.68. We start with the smallest prime number, 2, and continue with 3, 5, 7, 11, 13, and so on.\\n\\nIf 17077 can be divided evenly (i.e., with no remainder) by any of these numbers, then it is not a prime number. If it cannot be divided evenly by any of these numbers, then it is a prime number.\\n\\nLet's start with 2. Since 17077 is an odd number, it cannot be divided evenly by 2. \\n\\nNext, let's try 3. The sum of the digits of 17077 is 1+7+0+7+7=22, which is not divisible by 3, so 17077 is not divisible by 3.\\n\\nWe continue this process with the prime numbers 5, 7, 11, 13, 17, 19, 23, 29, 31, 37, 41, 43, 47, 53, 59, 61, 67, 71, 73, 79, 83, 89, 97, 101, 103, 107, 109, 113, 127. \\n\\nIf 17077 is not divisible by any of these prime numbers, then it is a prime number. However, when we reach 127, we find that 17077 divided by 127 equals 134 with no remainder. \\n\\nTherefore, 17077 is not a prime number because it has divisors other than 1 and itself (namely, 127 and 134).</td>\n",
       "      <td>29.593874</td>\n",
       "      <td>gpt-4-0613</td>\n",
       "    </tr>\n",
       "    <tr>\n",
       "      <th>3</th>\n",
       "      <td>[{'role': 'system', 'content': '\n",
       "You are a math tutor. When given a math question, talk through each step \n",
       "of your thought process before arriving at the answer. \n",
       "'}, {'role': 'user', 'content': '\n",
       "Is 26 a prime number?\n",
       "'}]</td>\n",
       "      <td>To determine if a number is prime, we need to understand what a prime number is. A prime number is a number that has exactly two distinct positive divisors: 1 and itself. In other words, the only way to multiply two positive numbers to get a prime number is to multiply 1 by the number itself.\\n\\nSo, let's consider the number 26. \\n\\nThe first step is to see if it can be divided evenly by 2, which is the smallest prime number. If it can, then it's not a prime number. \\n\\n26 divided by 2 equals 13, which is a whole number. This means that 26 can be divided evenly by numbers other than 1 and itself, specifically 2 and 13.\\n\\nTherefore, 26 is not a prime number because it has more than two distinct positive divisors: 1, 2, 13, and 26.</td>\n",
       "      <td>12.799341</td>\n",
       "      <td>gpt-4-0613</td>\n",
       "    </tr>\n",
       "    <tr>\n",
       "      <th>4</th>\n",
       "      <td>[{'role': 'system', 'content': '\n",
       "You are a math tutor. When given a math question, talk through each step \n",
       "of your thought process before arriving at the answer. \n",
       "'}, {'role': 'user', 'content': '\n",
       "Is 17077 a prime number?\n",
       "'}]</td>\n",
       "      <td>To determine if a number is prime, we need to check if it has any divisors other than 1 and itself. A prime number is a number that has exactly two distinct positive divisors: 1 and itself. \\n\\nFor the number 17077, we can start by checking if it's divisible by the smallest prime numbers like 2, 3, 5, 7, 11, 13, and so on. \\n\\n1. Check if it's divisible by 2: All even numbers are divisible by 2. Since 17077 is an odd number, it's not divisible by 2.\\n\\n2. Check if it's divisible by 3: A number is divisible by 3 if the sum of its digits is divisible by 3. The sum of the digits in 17077 is 1+7+0+7+7 = 22, which is not divisible by 3.\\n\\n3. Check if it's divisible by 5: A number is divisible by 5 if its last digit is either 0 or 5. The last digit of 17077 is 7, so it's not divisible by 5.\\n\\n4. Check if it's divisible by 7: There's no simple rule for divisibility by 7. We would have to perform the actual division to check. However, before we do that, there's a more efficient way to check for prime numbers.\\n\\nWe only need to check divisibility up to the square root of the number. The square root of 17077 is approximately 130.67. So we only need to check divisibility by primes up to 131.\\n\\n5. Check if it's divisible by primes up to 131: This would involve checking divisibility by 7, 11, 13, 17, 19, 23, 29, 31, 37, 41, 43, 47, 53, 59, 61, 67, 71, 73, 79, 83, 89, 97, 101, 103, 107, 109, 113, 127, and 131. \\n\\nUpon checking, we find that 17077 is divisible by 131 (17077 ÷ 131 = 130). Therefore, 17077 is not a prime number because it has more divisors than just 1 and itself.</td>\n",
       "      <td>35.819862</td>\n",
       "      <td>gpt-4</td>\n",
       "    </tr>\n",
       "    <tr>\n",
       "      <th>5</th>\n",
       "      <td>[{'role': 'system', 'content': '\n",
       "You are a math tutor. When given a math question, talk through each step \n",
       "of your thought process before arriving at the answer. \n",
       "'}, {'role': 'user', 'content': '\n",
       "Is 26 a prime number?\n",
       "'}]</td>\n",
       "      <td>To determine if a number is prime, we need to understand what a prime number is. A prime number is a number that has exactly two distinct positive divisors: 1 and itself. In other words, the only way to multiply two numbers to get a prime number is to multiply 1 by the number itself.\\n\\nNow, let's consider the number 26. \\n\\nThe first step is to see if 26 can be divided evenly by 2, which is the smallest prime number. If it can, then 26 is not a prime number. \\n\\n26 divided by 2 equals 13, which is an integer with no remainder. This means that 26 can be divided evenly by numbers other than 1 and itself (in this case, 2 and 13). \\n\\nTherefore, 26 is not a prime number.</td>\n",
       "      <td>12.498451</td>\n",
       "      <td>gpt-4</td>\n",
       "    </tr>\n",
       "  </tbody>\n",
       "</table>\n",
       "</div>"
      ],
      "text/plain": [
       "                                                                                                                                                                                                                            messages  \\\n",
       "0  [{'role': 'system', 'content': '\n",
       "You are a math tutor. When given a math question, talk through each step \n",
       "of your thought process before arriving at the answer. \n",
       "'}, {'role': 'user', 'content': '\n",
       "Is 17077 a prime number?\n",
       "'}]   \n",
       "1  [{'role': 'system', 'content': '\n",
       "You are a math tutor. When given a math question, talk through each step \n",
       "of your thought process before arriving at the answer. \n",
       "'}, {'role': 'user', 'content': '\n",
       "Is 26 a prime number?\n",
       "'}]      \n",
       "2  [{'role': 'system', 'content': '\n",
       "You are a math tutor. When given a math question, talk through each step \n",
       "of your thought process before arriving at the answer. \n",
       "'}, {'role': 'user', 'content': '\n",
       "Is 17077 a prime number?\n",
       "'}]   \n",
       "3  [{'role': 'system', 'content': '\n",
       "You are a math tutor. When given a math question, talk through each step \n",
       "of your thought process before arriving at the answer. \n",
       "'}, {'role': 'user', 'content': '\n",
       "Is 26 a prime number?\n",
       "'}]      \n",
       "4  [{'role': 'system', 'content': '\n",
       "You are a math tutor. When given a math question, talk through each step \n",
       "of your thought process before arriving at the answer. \n",
       "'}, {'role': 'user', 'content': '\n",
       "Is 17077 a prime number?\n",
       "'}]   \n",
       "5  [{'role': 'system', 'content': '\n",
       "You are a math tutor. When given a math question, talk through each step \n",
       "of your thought process before arriving at the answer. \n",
       "'}, {'role': 'user', 'content': '\n",
       "Is 26 a prime number?\n",
       "'}]      \n",
       "\n",
       "                                                                                                                                                                                                                                                                                                                                                                                                                                                                                                                                                                                                                                                                                                                                                                                                                                                                                                                                                                                                                                                                                                                                                                                                                                                                                                                                                                                                                                                                                                                                                                                                                                                                                                          response(s)  \\\n",
       "0  To determine if 17077 is a prime number, we need to check if it has any divisors other than 1 and itself. A prime number is a number that can only be divided by 1 and itself without leaving a remainder.\\n\\nStep 1: Check for divisibility by 2\\nSince 17077 is an odd number (it ends in 7), it is not divisible by 2.\\n\\nStep 2: Check for divisibility by 3\\nTo check for divisibility by 3, we can add up the digits of the number (1 + 7 + 0 + 7 + 7 = 22) and see if the sum is divisible by 3. Since 22 is not divisible by 3, 17077 is not divisible by 3.\\n\\nStep 3: Check for divisibility by other prime numbers\\nWe can now check for divisibility by other prime numbers up to the square root of 17077. The square root of 17077 is approximately 130.6, so we only need to check for divisibility by prime numbers up to 130.\\n\\nWe've already checked for divisibility by 2 and 3, so we'll continue with the next prime numbers: 5, 7, 11, 13, 17, 19, 23, 29, 31, 37, 41, 43, 47, 53, 59, 61, 67, 71, 73, 79, 83, 89, 97, 101, 103, 107, 109, 113, 127.\\n\\nStep 4: Check for divisibility by each prime number\\n17077 is not divisible by 5 (it doesn't end in 0 or 5).\\n17077 is not divisible by 7 (17077 ÷ 7 ≈ 2439.57).\\n17077 is not divisible by 11 (17077 ÷ 11 ≈ 1552.45).\\n17077 is not divisible by 13 (17077 ÷ 13 ≈ 1313.62).\\n\\nHowever, when we check for divisibility by 17, we find that 17077 ÷ 17 = 1004.53, which is very close to a whole number. In fact, 17077 ÷ 17 = 1005, with a small error in the previous calculation. So, 17077 is divisible by 17 (17 * 1005 = 17077).\\n\\nSince 17077 has divisors other than 1 and itself (17 and 1005), it is not a prime number.   \n",
       "1  To determine if 26 is a prime number, we need to check if it has any factors other than 1 and itself. A prime number is a number that can only be divided by 1 and itself without leaving a remainder.\\n\\nStep 1: Identify the smallest prime number, which is 2.\\n\\nStep 2: Check if 26 is divisible by 2. To do this, divide 26 by 2:\\n26 ÷ 2 = 13\\n\\nSince 26 can be divided by 2 without leaving a remainder, it means that 26 has factors other than 1 and itself (2 and 13).\\n\\nTherefore, 26 is not a prime number.                                                                                                                                                                                                                                                                                                                                                                                                                                                                                                                                                                                                                                                                                                                                                                                                                                                                                                                                                                                                                                                                                                                                                                                           \n",
       "2  To determine if a number is prime, we need to check if it has any divisors other than 1 and itself. A prime number is a number that has exactly two distinct positive divisors: 1 and itself.\\n\\nThe first step in determining if a number is prime is to find its square root. The square root of 17077 is approximately 130.68. This is because any factor of 17077 must be less than or equal to its square root. \\n\\nNext, we check if 17077 can be divided evenly by any prime numbers less than 130.68. We start with the smallest prime number, 2, and continue with 3, 5, 7, 11, 13, and so on.\\n\\nIf 17077 can be divided evenly (i.e., with no remainder) by any of these numbers, then it is not a prime number. If it cannot be divided evenly by any of these numbers, then it is a prime number.\\n\\nLet's start with 2. Since 17077 is an odd number, it cannot be divided evenly by 2. \\n\\nNext, let's try 3. The sum of the digits of 17077 is 1+7+0+7+7=22, which is not divisible by 3, so 17077 is not divisible by 3.\\n\\nWe continue this process with the prime numbers 5, 7, 11, 13, 17, 19, 23, 29, 31, 37, 41, 43, 47, 53, 59, 61, 67, 71, 73, 79, 83, 89, 97, 101, 103, 107, 109, 113, 127. \\n\\nIf 17077 is not divisible by any of these prime numbers, then it is a prime number. However, when we reach 127, we find that 17077 divided by 127 equals 134 with no remainder. \\n\\nTherefore, 17077 is not a prime number because it has divisors other than 1 and itself (namely, 127 and 134).                                                                                                                                                                                           \n",
       "3  To determine if a number is prime, we need to understand what a prime number is. A prime number is a number that has exactly two distinct positive divisors: 1 and itself. In other words, the only way to multiply two positive numbers to get a prime number is to multiply 1 by the number itself.\\n\\nSo, let's consider the number 26. \\n\\nThe first step is to see if it can be divided evenly by 2, which is the smallest prime number. If it can, then it's not a prime number. \\n\\n26 divided by 2 equals 13, which is a whole number. This means that 26 can be divided evenly by numbers other than 1 and itself, specifically 2 and 13.\\n\\nTherefore, 26 is not a prime number because it has more than two distinct positive divisors: 1, 2, 13, and 26.                                                                                                                                                                                                                                                                                                                                                                                                                                                                                                                                                                                                                                                                                                                                                                                                                                                                                                                                                 \n",
       "4  To determine if a number is prime, we need to check if it has any divisors other than 1 and itself. A prime number is a number that has exactly two distinct positive divisors: 1 and itself. \\n\\nFor the number 17077, we can start by checking if it's divisible by the smallest prime numbers like 2, 3, 5, 7, 11, 13, and so on. \\n\\n1. Check if it's divisible by 2: All even numbers are divisible by 2. Since 17077 is an odd number, it's not divisible by 2.\\n\\n2. Check if it's divisible by 3: A number is divisible by 3 if the sum of its digits is divisible by 3. The sum of the digits in 17077 is 1+7+0+7+7 = 22, which is not divisible by 3.\\n\\n3. Check if it's divisible by 5: A number is divisible by 5 if its last digit is either 0 or 5. The last digit of 17077 is 7, so it's not divisible by 5.\\n\\n4. Check if it's divisible by 7: There's no simple rule for divisibility by 7. We would have to perform the actual division to check. However, before we do that, there's a more efficient way to check for prime numbers.\\n\\nWe only need to check divisibility up to the square root of the number. The square root of 17077 is approximately 130.67. So we only need to check divisibility by primes up to 131.\\n\\n5. Check if it's divisible by primes up to 131: This would involve checking divisibility by 7, 11, 13, 17, 19, 23, 29, 31, 37, 41, 43, 47, 53, 59, 61, 67, 71, 73, 79, 83, 89, 97, 101, 103, 107, 109, 113, 127, and 131. \\n\\nUpon checking, we find that 17077 is divisible by 131 (17077 ÷ 131 = 130). Therefore, 17077 is not a prime number because it has more divisors than just 1 and itself.                                                           \n",
       "5  To determine if a number is prime, we need to understand what a prime number is. A prime number is a number that has exactly two distinct positive divisors: 1 and itself. In other words, the only way to multiply two numbers to get a prime number is to multiply 1 by the number itself.\\n\\nNow, let's consider the number 26. \\n\\nThe first step is to see if 26 can be divided evenly by 2, which is the smallest prime number. If it can, then 26 is not a prime number. \\n\\n26 divided by 2 equals 13, which is an integer with no remainder. This means that 26 can be divided evenly by numbers other than 1 and itself (in this case, 2 and 13). \\n\\nTherefore, 26 is not a prime number.                                                                                                                                                                                                                                                                                                                                                                                                                                                                                                                                                                                                                                                                                                                                                                                                                                                                                                                                                                                                                 \n",
       "\n",
       "     latency       model  \n",
       "0  22.004887  gpt-4-0314  \n",
       "1  5.219352   gpt-4-0314  \n",
       "2  29.593874  gpt-4-0613  \n",
       "3  12.799341  gpt-4-0613  \n",
       "4  35.819862  gpt-4       \n",
       "5  12.498451  gpt-4       "
      ]
     },
     "metadata": {},
     "output_type": "display_data"
    }
   ],
   "source": [
    "openai_experiment.visualize()"
   ]
  },
  {
   "cell_type": "code",
   "execution_count": 6,
   "id": "6747248e",
   "metadata": {},
   "outputs": [
    {
     "data": {
      "image/png": "[encoded data removed]",
      "text/plain": [
       "<Figure size 640x480 with 1 Axes>"
      ]
     },
     "metadata": {},
     "output_type": "display_data"
    }
   ],
   "source": [
    "openai_experiment.aggregate(metric_name=\"latency\", column_name=\"model\", is_average=True)"
   ]
  },
  {
   "cell_type": "code",
   "execution_count": null,
   "id": "d43a26ba",
   "metadata": {},
   "outputs": [],
   "source": []
  },
  {
   "cell_type": "code",
   "execution_count": null,
   "id": "bdda3b71",
   "metadata": {},
   "outputs": [],
   "source": []
  }
 ],
 "metadata": {
  "kernelspec": {
   "display_name": "Python 3 (ipykernel)",
   "language": "python",
   "name": "python3"
  },
  "language_info": {
   "codemirror_mode": {
    "name": "ipython",
    "version": 3
   },
   "file_extension": ".py",
   "mimetype": "text/x-python",
   "name": "python",
   "nbconvert_exporter": "python",
   "pygments_lexer": "ipython3",
   "version": "3.11.4"
  }
 },
 "nbformat": 4,
 "nbformat_minor": 5
}
