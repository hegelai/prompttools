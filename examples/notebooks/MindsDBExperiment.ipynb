{
 "cells": [
  {
   "cell_type": "markdown",
   "metadata": {},
   "source": [
    "# MindsDB Experiment Example"
   ]
  },
  {
   "cell_type": "markdown",
   "metadata": {},
   "source": [
    "## Installation"
   ]
  },
  {
   "cell_type": "code",
   "execution_count": 1,
   "metadata": {},
   "outputs": [],
   "source": [
    "# !pip install --quiet --force-reinstall prompttools"
   ]
  },
  {
   "cell_type": "markdown",
   "metadata": {},
   "source": [
    "## Usage"
   ]
  },
  {
   "cell_type": "markdown",
   "metadata": {},
   "source": [
    "To use MindsDB, first, setup an account: https://docs.mindsdb.com/what-is-mindsdb\n",
    "This is a good source for learning the framework: https://docs.mindsdb.com/getting-started\n",
    "\n",
    "To send requests to MindsDB from python, you need your user/password associated with your MindsDB account.\n",
    "\n",
    "Once you build your model in MindsDB, you can send queries to the DB through prompttools using `MindsDBExperiment` which allows you to measure the quality of the responses you expect from your models."
   ]
  },
  {
   "cell_type": "code",
   "execution_count": 2,
   "metadata": {},
   "outputs": [
    {
     "data": {
      "text/html": [
       "<div>\n",
       "<style scoped>\n",
       "    .dataframe tbody tr th:only-of-type {\n",
       "        vertical-align: middle;\n",
       "    }\n",
       "\n",
       "    .dataframe tbody tr th {\n",
       "        vertical-align: top;\n",
       "    }\n",
       "\n",
       "    .dataframe thead th {\n",
       "        text-align: right;\n",
       "    }\n",
       "</style>\n",
       "<table border=\"1\" class=\"dataframe\">\n",
       "  <thead>\n",
       "    <tr style=\"text-align: right;\">\n",
       "      <th></th>\n",
       "      <th>prompt</th>\n",
       "      <th>response(s)</th>\n",
       "      <th>latency</th>\n",
       "      <th>similar_to_expected</th>\n",
       "    </tr>\n",
       "  </thead>\n",
       "  <tbody>\n",
       "    <tr>\n",
       "      <th>0</th>\n",
       "      <td>\\n    SELECT response\\n    FROM mindsdb.gpt_model\\n    WHERE author_username=\"Agent\"\\n    AND text=\"Who was the first President?\"\\n</td>\n",
       "      <td>(The first President of the United States was George Washington. He served two terms from 1789 to 1797.,)</td>\n",
       "      <td>3.880544</td>\n",
       "      <td>0.944024</td>\n",
       "    </tr>\n",
       "  </tbody>\n",
       "</table>\n",
       "</div>"
      ],
      "text/plain": [
       "                                                                                                                                    prompt  \\\n",
       "0  \\n    SELECT response\\n    FROM mindsdb.gpt_model\\n    WHERE author_username=\"Agent\"\\n    AND text=\"Who was the first President?\"\\n       \n",
       "\n",
       "                                                                                                 response(s)  \\\n",
       "0  (The first President of the United States was George Washington. He served two terms from 1789 to 1797.,)   \n",
       "\n",
       "    latency  similar_to_expected  \n",
       "0  3.880544  0.944024             "
      ]
     },
     "metadata": {},
     "output_type": "display_data"
    }
   ],
   "source": [
    "import mysql.connector\n",
    "from prompttools.experiment import MindsDBExperiment\n",
    "from prompttools.utils import semantic_similarity\n",
    "\n",
    "\n",
    "db = mysql.connector.connect(host=\"cloud.mindsdb.com\", user=\"user\", password=\"password\", port=\"3306\")\n",
    "\n",
    "experiment = MindsDBExperiment(\n",
    "    db_connector=db,\n",
    "    **{\n",
    "        \"prompt\": [\n",
    "            \"\"\"\n",
    "    SELECT response\n",
    "    FROM {table}\n",
    "    WHERE author_username={author_username}\n",
    "    AND text={text}\n",
    "    \"\"\"\n",
    "        ],\n",
    "        \"table\": [\"mindsdb.gpt_model\"],\n",
    "        \"author_username\": ['\"Agent\"'],\n",
    "        \"text\": ['\"Who was the first President?\"'],\n",
    "    },\n",
    ")\n",
    "\n",
    "\n",
    "experiment.run()\n",
    "\n",
    "\n",
    "from prompttools.utils import similarity\n",
    "\n",
    "experiment.evaluate(\"similar_to_expected\", semantic_similarity, expected=[\"George Washington\"] * 1)\n",
    "\n",
    "experiment.visualize()"
   ]
  }
 ],
 "metadata": {
  "kernelspec": {
   "display_name": "Python 3 (ipykernel)",
   "language": "python",
   "name": "python3"
  },
  "language_info": {
   "codemirror_mode": {
    "name": "ipython",
    "version": 3
   },
   "file_extension": ".py",
   "mimetype": "text/x-python",
   "name": "python",
   "nbconvert_exporter": "python",
   "pygments_lexer": "ipython3",
   "version": "3.11.4"
  },
  "vscode": {
   "interpreter": {
    "hash": "31f2aee4e71d21fbe5cf8b01ff0e069b9275f58929596ceb00d14d90e3e16cd6"
   }
  }
 },
 "nbformat": 4,
 "nbformat_minor": 2
}
