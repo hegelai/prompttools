{
 "cells": [
  {
   "cell_type": "markdown",
   "metadata": {},
   "source": [
    "# Lang Chain Router Chain Experiment Example"
   ]
  },
  {
   "cell_type": "code",
   "execution_count": 1,
   "metadata": {},
   "outputs": [
    {
     "ename": "ImportError",
     "evalue": "cannot import name 'RouterChainExperiment' from 'prompttools.experiment' (/home/hashem/.local/lib/python3.10/site-packages/prompttools/experiment/__init__.py)",
     "output_type": "error",
     "traceback": [
      "\u001b[0;31m---------------------------------------------------------------------------\u001b[0m",
      "\u001b[0;31mImportError\u001b[0m                               Traceback (most recent call last)",
      "Input \u001b[0;32mIn [1]\u001b[0m, in \u001b[0;36m<cell line: 1>\u001b[0;34m()\u001b[0m\n\u001b[0;32m----> 1\u001b[0m \u001b[38;5;28;01mfrom\u001b[39;00m \u001b[38;5;21;01mprompttools\u001b[39;00m\u001b[38;5;21;01m.\u001b[39;00m\u001b[38;5;21;01mexperiment\u001b[39;00m \u001b[38;5;28;01mimport\u001b[39;00m RouterChainExperiment\n\u001b[1;32m      2\u001b[0m \u001b[38;5;28;01mfrom\u001b[39;00m \u001b[38;5;21;01mlangchain\u001b[39;00m\u001b[38;5;21;01m.\u001b[39;00m\u001b[38;5;21;01mllms\u001b[39;00m \u001b[38;5;28;01mimport\u001b[39;00m OpenAI\n\u001b[1;32m      4\u001b[0m \u001b[38;5;28;01mfrom\u001b[39;00m \u001b[38;5;21;01mprompttools\u001b[39;00m\u001b[38;5;21;01m.\u001b[39;00m\u001b[38;5;21;01mutils\u001b[39;00m \u001b[38;5;28;01mimport\u001b[39;00m semantic_similarity\n",
      "\u001b[0;31mImportError\u001b[0m: cannot import name 'RouterChainExperiment' from 'prompttools.experiment' (/home/hashem/.local/lib/python3.10/site-packages/prompttools/experiment/__init__.py)"
     ]
    }
   ],
   "source": [
    "from prompttools.experiment import RouterChainExperiment\n",
    "from langchain.llms import OpenAI\n",
    "\n",
    "from prompttools.utils import semantic_similarity\n",
    "\n",
    "\n",
    "cooking_template = \"\"\"You are a well versed chef. \\\n",
    "You enjoy baking bread, \\\n",
    "explain how to make good sushi.\n",
    "\n",
    "Here is a question:\n",
    "{input}\"\"\"\n",
    "\n",
    "\n",
    "restaurant_template = \"\"\"You are a fantastic restaurateur. \\\n",
    "You specialize in restaurant operations in New York City.\n",
    "\n",
    "Here is a question:\n",
    "{input}\"\"\"\n",
    "\n",
    "prompt_infos = [\n",
    "    [\n",
    "        {\n",
    "            \"name\": \"cooking\",\n",
    "            \"description\": \"Good for answering questions about cooking\",\n",
    "            \"prompt_template\": cooking_template,\n",
    "        },\n",
    "        {\n",
    "            \"name\": \"restaurant\",\n",
    "            \"description\": \"Good for building a restaurant\",\n",
    "            \"prompt_template\": restaurant_template,\n",
    "        },\n",
    "    ],\n",
    "]\n",
    "\n",
    "\n",
    "experiment = RouterChainExperiment(\n",
    "    llm=[OpenAI],\n",
    "    prompt=[\"How can I make a delicious smoothie?\"],\n",
    "    prompt_infos=prompt_infos,\n",
    "    **{\n",
    "        \"temperature\": [0.1, 0.9],\n",
    "    },\n",
    ")\n",
    "\n",
    "expected = \"\"\"You will need fruit of your choice, a blender, and some ice. Place about one cup of fruit in the blender.\n",
    "Place about a quarter cup of ice in the blender. Blend to your desired consistency.\"\"\"\n",
    "\n",
    "experiment.run()\n",
    "\n",
    "experiment.evaluate(\"similar_to_expected\", semantic_similarity, expected=[expected] * 2)\n",
    "\n",
    "experiment.visualize()"
   ]
  }
 ],
 "metadata": {
  "kernelspec": {
   "display_name": "Python 3 (ipykernel)",
   "language": "python",
   "name": "python3"
  },
  "language_info": {
   "codemirror_mode": {
    "name": "ipython",
    "version": 3
   },
   "file_extension": ".py",
   "mimetype": "text/x-python",
   "name": "python",
   "nbconvert_exporter": "python",
   "pygments_lexer": "ipython3",
   "version": "3.10.12"
  },
  "vscode": {
   "interpreter": {
    "hash": "eec05f12730ef3ef66f433616fcd3cfdacd3dcf1f1c49c706eaa0465be8f325b"
   }
  }
 },
 "nbformat": 4,
 "nbformat_minor": 2
}
