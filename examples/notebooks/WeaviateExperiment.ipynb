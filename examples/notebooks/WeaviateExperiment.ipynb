{
 "cells": [
  {
   "cell_type": "markdown",
   "id": "0a13ddc8",
   "metadata": {},
   "source": [
    "# Weaviate Experiment Example"
   ]
  },
  {
   "cell_type": "markdown",
   "id": "623f0cfe",
   "metadata": {},
   "source": [
    "## Installations"
   ]
  },
  {
   "cell_type": "code",
   "execution_count": 1,
   "id": "5132be6f",
   "metadata": {},
   "outputs": [],
   "source": [
    "# !pip install --quiet --force-reinstall prompttools\n",
    "# !pip install weaviate-client"
   ]
  },
  {
   "cell_type": "markdown",
   "id": "a9124a07",
   "metadata": {},
   "source": [
    "First, you need to connect to a Weaviate client. One easy option is to connect to a local instance launched with Docker.\n",
    "\n",
    "Please see their official documentation for details: https://weaviate.io/developers/weaviate/tutorials/connect"
   ]
  },
  {
   "cell_type": "code",
   "execution_count": 2,
   "id": "22338a40",
   "metadata": {},
   "outputs": [],
   "source": [
    "import weaviate\n",
    "\n",
    "client = weaviate.Client(\"http://localhost:8080/\")  # This can be replaced by other clients"
   ]
  },
  {
   "cell_type": "markdown",
   "id": "2b10d142",
   "metadata": {},
   "source": [
    "## Run an experiment\n",
    "\n",
    "### Working with data already exists in Weaviate\n",
    "\n",
    "First, we will show how you can run experiment if you already have datat that exists in Weaviate. You can test different queries to see how the responses differ.\n",
    "\n",
    "You can also skip to the next section if you would like to insert data at runtime."
   ]
  },
  {
   "cell_type": "code",
   "execution_count": 3,
   "id": "4ef6a4a9",
   "metadata": {},
   "outputs": [],
   "source": [
    "# Can skip if you already have data in Weaviate\n",
    "\n",
    "# Create class object\n",
    "class_name = \"Question\"\n",
    "\n",
    "# Clearing existing\n",
    "try:\n",
    "    client.batch.delete_objects(class_name=class_name, where={})\n",
    "except Exception:\n",
    "    pass\n",
    "\n",
    "try:\n",
    "    client.schema.delete_class(class_name)\n",
    "except Exception:\n",
    "    pass\n",
    "\n",
    "class_obj = {\n",
    "    \"class\": class_name,\n",
    "    \"vectorizer\": \"text2vec-contextionary\",\n",
    "    \"moduleConfig\": {\"text2vec-contextionary\": {\"vectorizeClassName\": \"false\"}},\n",
    "}\n",
    "\n",
    "client.schema.create_class(class_obj)"
   ]
  },
  {
   "cell_type": "markdown",
   "id": "0e1ccc31",
   "metadata": {},
   "source": [
    "We insert data in the following cell."
   ]
  },
  {
   "cell_type": "code",
   "execution_count": 4,
   "id": "b93c260e",
   "metadata": {},
   "outputs": [
    {
     "name": "stdout",
     "output_type": "stream",
     "text": [
      "importing question: 1\n",
      "importing question: 2\n",
      "importing question: 3\n",
      "importing question: 4\n",
      "importing question: 5\n",
      "importing question: 6\n",
      "importing question: 7\n",
      "importing question: 8\n"
     ]
    }
   ],
   "source": [
    "# Can skip if you already have data in Weaviate\n",
    "data = [\n",
    "    {\"Category\": \"science\", \"Question\": \"How many hydrogens are in H2O?\", \"Answer\": \"2\"},\n",
    "    {\"Category\": \"math\", \"Question\": \"2+2\", \"Answer\": \"4\"},\n",
    "    {\"Category\": \"math\", \"Question\": \"Is 13 a prime number?\", \"Answer\": \"Yes\"},\n",
    "    {\"Category\": \"geography\", \"Question\": \"Which continent is India in?\", \"Answer\": \"Asia\"},\n",
    "    {\"Category\": \"geography\", \"Question\": \"Which continent is China in?\", \"Answer\": \"Asia\"},\n",
    "    {\"Category\": \"geography\", \"Question\": \"Which continent is USA in?\", \"Answer\": \"North America\"},\n",
    "    {\"Category\": \"geography\", \"Question\": \"Which is the largest state in the USA?\", \"Answer\": \"Alaska\"},\n",
    "    {\"Category\": \"geography\", \"Question\": \"Which is the most populous state in the USA?\", \"Answer\": \"California\"},\n",
    "]\n",
    "\n",
    "with client.batch(batch_size=100) as batch:\n",
    "    for i, d in enumerate(data):\n",
    "        print(f\"importing question: {i+1}\")\n",
    "\n",
    "        properties = {\n",
    "            \"answer\": d[\"Answer\"],\n",
    "            \"question\": d[\"Question\"],\n",
    "            \"category\": d[\"Category\"],\n",
    "        }\n",
    "\n",
    "        client.batch.add_data_object(\n",
    "            properties,\n",
    "            \"Question\",\n",
    "        )"
   ]
  },
  {
   "cell_type": "markdown",
   "id": "fcd13192",
   "metadata": {},
   "source": [
    "#### Building differnt queries\n",
    "\n",
    "In this first example, we will demonstrate how you can test different queries on the same existing dataset.\n",
    "\n",
    "Given that there are many options on how a near text search operator and filters can be constructed. We ask that you define query functions and pass that into the experiment in the form of a dictionary `{name: callable_function}`, as shown below.\n",
    "\n",
    "Note: there is a default query function if you aren't interested in testing different querying methods."
   ]
  },
  {
   "cell_type": "code",
   "execution_count": 5,
   "id": "cde49886",
   "metadata": {},
   "outputs": [],
   "source": [
    "def default_query_builder(\n",
    "    client: weaviate.Client,\n",
    "    class_name: str,\n",
    "    property_names: list[str],\n",
    "    text_query: str,\n",
    "):\n",
    "    near_text_search_operator = {\"concepts\": [text_query]}\n",
    "    return client.query.get(class_name, property_names).with_near_text(near_text_search_operator).with_limit(limit=3)\n",
    "\n",
    "\n",
    "def custom_query_builder(\n",
    "    client: weaviate.Client,\n",
    "    class_name: str,\n",
    "    property_names: list[str],\n",
    "    text_query: str,\n",
    "):\n",
    "    near_text_search_operator = {\n",
    "        \"concepts\": [text_query],\n",
    "        \"distance\": 0.6,\n",
    "        \"moveAwayFrom\": {\"concepts\": [\"where geography \"], \"force\": 0.45},\n",
    "    }\n",
    "    return client.query.get(class_name, property_names).with_near_text(near_text_search_operator).with_limit(limit=3)\n",
    "\n",
    "\n",
    "# A dictionary of the name of query builder and the corresponding callable function.\n",
    "query_builders = {\"default\": default_query_builder, \"custom\": custom_query_builder}"
   ]
  },
  {
   "cell_type": "markdown",
   "id": "b296dc4d",
   "metadata": {},
   "source": [
    "We will define our queries and run the experiment!"
   ]
  },
  {
   "cell_type": "code",
   "execution_count": 6,
   "id": "9db6b381",
   "metadata": {},
   "outputs": [
    {
     "name": "stderr",
     "output_type": "stream",
     "text": [
      "/Users/kevin/miniconda3/envs/prompttools/lib/python3.11/site-packages/google/rpc/__init__.py:20: DeprecationWarning: Deprecated call to `pkg_resources.declare_namespace('google.rpc')`.\n",
      "Implementing implicit namespace packages (as specified in PEP 420) is preferred to `pkg_resources.declare_namespace`. See https://setuptools.pypa.io/en/latest/references/keywords.html#keyword-namespace-packages\n",
      "  pkg_resources.declare_namespace(__name__)\n",
      "/Users/kevin/miniconda3/envs/prompttools/lib/python3.11/site-packages/pkg_resources/__init__.py:2349: DeprecationWarning: Deprecated call to `pkg_resources.declare_namespace('google')`.\n",
      "Implementing implicit namespace packages (as specified in PEP 420) is preferred to `pkg_resources.declare_namespace`. See https://setuptools.pypa.io/en/latest/references/keywords.html#keyword-namespace-packages\n",
      "  declare_namespace(parent)\n"
     ]
    }
   ],
   "source": [
    "from prompttools.experiment import WeaviateExperiment\n",
    "\n",
    "use_existing_data = True\n",
    "property_names = [\"category\", \"question\", \"answer\"]  # Specify what property you would like to query\n",
    "text_queries = [\"Hydrogen\", \"USA\"]  # Your text queries that will be passed in to query builder to create query\n",
    "\n",
    "\n",
    "experiment = WeaviateExperiment(\n",
    "    client=client,\n",
    "    class_name=class_name,\n",
    "    use_existing_data=use_existing_data,\n",
    "    property_names=property_names,\n",
    "    text_queries=text_queries,\n",
    "    query_builders=query_builders,\n",
    ")\n",
    "experiment.run()"
   ]
  },
  {
   "cell_type": "markdown",
   "id": "609edea5",
   "metadata": {},
   "source": [
    "As you can see from the results, the \"custom\" queries try to stay away from geography topics in its responses (unless it is highly relevant), whereas the first one is agnostic."
   ]
  },
  {
   "cell_type": "code",
   "execution_count": 7,
   "id": "b1f4acde",
   "metadata": {},
   "outputs": [
    {
     "data": {
      "text/html": [
       "<div>\n",
       "<style scoped>\n",
       "    .dataframe tbody tr th:only-of-type {\n",
       "        vertical-align: middle;\n",
       "    }\n",
       "\n",
       "    .dataframe tbody tr th {\n",
       "        vertical-align: top;\n",
       "    }\n",
       "\n",
       "    .dataframe thead th {\n",
       "        text-align: right;\n",
       "    }\n",
       "</style>\n",
       "<table border=\"1\" class=\"dataframe\">\n",
       "  <thead>\n",
       "    <tr style=\"text-align: right;\">\n",
       "      <th></th>\n",
       "      <th>text_query</th>\n",
       "      <th>query_builder_name</th>\n",
       "      <th>top objs</th>\n",
       "    </tr>\n",
       "  </thead>\n",
       "  <tbody>\n",
       "    <tr>\n",
       "      <th>0</th>\n",
       "      <td>Hydrogen</td>\n",
       "      <td>default</td>\n",
       "      <td>[{'answer': '2', 'category': 'science', 'question': 'How many hydrogens are in H2O?'}, {'answer': 'Alaska', 'category': 'geography', 'question': 'Which is the largest state in the USA?'}, {'answer': 'Asia', 'category': 'geography', 'question': 'Which continent is India in?'}]</td>\n",
       "    </tr>\n",
       "    <tr>\n",
       "      <th>1</th>\n",
       "      <td>USA</td>\n",
       "      <td>default</td>\n",
       "      <td>[{'answer': 'Alaska', 'category': 'geography', 'question': 'Which is the largest state in the USA?'}, {'answer': 'California', 'category': 'geography', 'question': 'Which is the most populous state in the USA?'}, {'answer': 'North America', 'category': 'geography', 'question': 'Which continent is USA in?'}]</td>\n",
       "    </tr>\n",
       "    <tr>\n",
       "      <th>2</th>\n",
       "      <td>Hydrogen</td>\n",
       "      <td>custom</td>\n",
       "      <td>[{'answer': '2', 'category': 'science', 'question': 'How many hydrogens are in H2O?'}]</td>\n",
       "    </tr>\n",
       "    <tr>\n",
       "      <th>3</th>\n",
       "      <td>USA</td>\n",
       "      <td>custom</td>\n",
       "      <td>[{'answer': 'Alaska', 'category': 'geography', 'question': 'Which is the largest state in the USA?'}, {'answer': 'California', 'category': 'geography', 'question': 'Which is the most populous state in the USA?'}, {'answer': 'North America', 'category': 'geography', 'question': 'Which continent is USA in?'}]</td>\n",
       "    </tr>\n",
       "  </tbody>\n",
       "</table>\n",
       "</div>"
      ],
      "text/plain": [
       "  text_query query_builder_name  \\\n",
       "0  Hydrogen   default             \n",
       "1  USA        default             \n",
       "2  Hydrogen   custom              \n",
       "3  USA        custom              \n",
       "\n",
       "                                                                                                                                                                                                                                                                                                               top objs  \n",
       "0  [{'answer': '2', 'category': 'science', 'question': 'How many hydrogens are in H2O?'}, {'answer': 'Alaska', 'category': 'geography', 'question': 'Which is the largest state in the USA?'}, {'answer': 'Asia', 'category': 'geography', 'question': 'Which continent is India in?'}]                                  \n",
       "1  [{'answer': 'Alaska', 'category': 'geography', 'question': 'Which is the largest state in the USA?'}, {'answer': 'California', 'category': 'geography', 'question': 'Which is the most populous state in the USA?'}, {'answer': 'North America', 'category': 'geography', 'question': 'Which continent is USA in?'}]  \n",
       "2  [{'answer': '2', 'category': 'science', 'question': 'How many hydrogens are in H2O?'}]                                                                                                                                                                                                                                \n",
       "3  [{'answer': 'Alaska', 'category': 'geography', 'question': 'Which is the largest state in the USA?'}, {'answer': 'California', 'category': 'geography', 'question': 'Which is the most populous state in the USA?'}, {'answer': 'North America', 'category': 'geography', 'question': 'Which continent is USA in?'}]  "
      ]
     },
     "metadata": {},
     "output_type": "display_data"
    }
   ],
   "source": [
    "experiment.visualize()"
   ]
  },
  {
   "cell_type": "markdown",
   "id": "f5f2244f",
   "metadata": {},
   "source": [
    "### Adding data into Weaviate during the experiment\n",
    "\n",
    "If you want to test different vectorizers (embedding functions), you may want to add data into Weaviate during the experiment.\n",
    "\n",
    "In the example below, we will be inserting the same data as we were doing in the above section.\n",
    "\n",
    "Define the `vectorizer` and corresponding `moduleConfig` in a list of tuples. Although the example here has 1, you can define multiple here if you want to compare multiple vectorizers."
   ]
  },
  {
   "cell_type": "code",
   "execution_count": 8,
   "id": "6b39dbf4",
   "metadata": {},
   "outputs": [],
   "source": [
    "vectorizers_and_moduleConfigs = [\n",
    "    (\n",
    "        \"text2vec-contextionary\",\n",
    "        {  # This runs on CPU, but you can swap to `huggingface` or `openai` as well\n",
    "            \"text2vec-contextionary\": {\"vectorizeClassName\": \"false\"}\n",
    "        },\n",
    "    ),\n",
    "]"
   ]
  },
  {
   "cell_type": "markdown",
   "id": "d6f9631d",
   "metadata": {},
   "source": [
    "We need to definte the properties for the data that we are about to insert. You can customize how and whether each property is vectorized if you wish."
   ]
  },
  {
   "cell_type": "code",
   "execution_count": 9,
   "id": "8d44c491",
   "metadata": {},
   "outputs": [],
   "source": [
    "property_definitions = [\n",
    "    {\n",
    "        \"name\": \"category\",\n",
    "        \"dataType\": [\"text\"],\n",
    "    },\n",
    "    {\n",
    "        \"name\": \"question\",\n",
    "        \"dataType\": [\"text\"],\n",
    "    },\n",
    "    {\n",
    "        \"name\": \"answer\",\n",
    "        \"dataType\": [\"text\"],\n",
    "    },\n",
    "]"
   ]
  },
  {
   "cell_type": "markdown",
   "id": "fd7d07cf",
   "metadata": {},
   "source": [
    "By default, Weaviate uses cosine similarity as the distance function. We can compare it with other ones."
   ]
  },
  {
   "cell_type": "code",
   "execution_count": 10,
   "id": "45af37d1",
   "metadata": {},
   "outputs": [],
   "source": [
    "distance_metrics = [\"cosine\", \"l2-squared\"]"
   ]
  },
  {
   "cell_type": "code",
   "execution_count": 11,
   "id": "145b2683",
   "metadata": {},
   "outputs": [],
   "source": [
    "class_name = \"Question\"\n",
    "\n",
    "# Clearing existing class object\n",
    "try:\n",
    "    client.batch.delete_objects(class_name=class_name, where={})\n",
    "except Exception:\n",
    "    pass\n",
    "\n",
    "try:\n",
    "    client.schema.delete_class(class_name)\n",
    "except Exception:\n",
    "    pass"
   ]
  },
  {
   "cell_type": "code",
   "execution_count": 12,
   "id": "242334a8",
   "metadata": {},
   "outputs": [],
   "source": [
    "use_existing_data = False\n",
    "property_names = [\"question\", \"answer\"]  # Specify what property you would like to query\n",
    "text_queries = [\"continent Asia\"]  # Your text queries that will be passed in to query builder to create query\n",
    "\n",
    "\n",
    "experiment = WeaviateExperiment(\n",
    "    client=client,\n",
    "    class_name=class_name,\n",
    "    use_existing_data=use_existing_data,\n",
    "    property_names=property_names,\n",
    "    text_queries=text_queries,\n",
    "    vectorizers_and_moduleConfigs=vectorizers_and_moduleConfigs,\n",
    "    property_definitions=property_definitions,\n",
    "    data_objects=data,\n",
    "    distance_metrics=distance_metrics,\n",
    ")\n",
    "experiment.run()"
   ]
  },
  {
   "cell_type": "code",
   "execution_count": 13,
   "id": "dc262c66",
   "metadata": {},
   "outputs": [
    {
     "data": {
      "text/html": [
       "<div>\n",
       "<style scoped>\n",
       "    .dataframe tbody tr th:only-of-type {\n",
       "        vertical-align: middle;\n",
       "    }\n",
       "\n",
       "    .dataframe tbody tr th {\n",
       "        vertical-align: top;\n",
       "    }\n",
       "\n",
       "    .dataframe thead th {\n",
       "        text-align: right;\n",
       "    }\n",
       "</style>\n",
       "<table border=\"1\" class=\"dataframe\">\n",
       "  <thead>\n",
       "    <tr style=\"text-align: right;\">\n",
       "      <th></th>\n",
       "      <th>vectorIndexConfig</th>\n",
       "      <th>top objs</th>\n",
       "    </tr>\n",
       "  </thead>\n",
       "  <tbody>\n",
       "    <tr>\n",
       "      <th>0</th>\n",
       "      <td>{'vectorIndexConfig': {'distance': 'cosine'}}</td>\n",
       "      <td>[{'answer': 'Asia', 'question': 'Which continent is China in?'}, {'answer': 'Asia', 'question': 'Which continent is India in?'}, {'answer': 'North America', 'question': 'Which continent is USA in?'}]</td>\n",
       "    </tr>\n",
       "    <tr>\n",
       "      <th>1</th>\n",
       "      <td>{'vectorIndexConfig': {'distance': 'l2-squared'}}</td>\n",
       "      <td>[{'answer': 'Asia', 'question': 'Which continent is China in?'}, {'answer': 'Asia', 'question': 'Which continent is India in?'}, {'answer': 'North America', 'question': 'Which continent is USA in?'}]</td>\n",
       "    </tr>\n",
       "  </tbody>\n",
       "</table>\n",
       "</div>"
      ],
      "text/plain": [
       "                                   vectorIndexConfig  \\\n",
       "0  {'vectorIndexConfig': {'distance': 'cosine'}}       \n",
       "1  {'vectorIndexConfig': {'distance': 'l2-squared'}}   \n",
       "\n",
       "                                                                                                                                                                                                  top objs  \n",
       "0  [{'answer': 'Asia', 'question': 'Which continent is China in?'}, {'answer': 'Asia', 'question': 'Which continent is India in?'}, {'answer': 'North America', 'question': 'Which continent is USA in?'}]  \n",
       "1  [{'answer': 'Asia', 'question': 'Which continent is China in?'}, {'answer': 'Asia', 'question': 'Which continent is India in?'}, {'answer': 'North America', 'question': 'Which continent is USA in?'}]  "
      ]
     },
     "metadata": {},
     "output_type": "display_data"
    }
   ],
   "source": [
    "experiment.visualize()"
   ]
  },
  {
   "cell_type": "markdown",
   "id": "266c13eb",
   "metadata": {},
   "source": [
    "## Evaluate the model response"
   ]
  },
  {
   "cell_type": "markdown",
   "id": "21f03398",
   "metadata": {},
   "source": [
    "For now, please refer to the ChromaDB example for possible evaluation methods (i.e. ranking correlation). Other examples show case how you can evaluate with LLMs."
   ]
  }
 ],
 "metadata": {
  "kernelspec": {
   "display_name": "Python 3 (ipykernel)",
   "language": "python",
   "name": "python3"
  },
  "language_info": {
   "codemirror_mode": {
    "name": "ipython",
    "version": 3
   },
   "file_extension": ".py",
   "mimetype": "text/x-python",
   "name": "python",
   "nbconvert_exporter": "python",
   "pygments_lexer": "ipython3",
   "version": "3.11.4"
  }
 },
 "nbformat": 4,
 "nbformat_minor": 5
}
