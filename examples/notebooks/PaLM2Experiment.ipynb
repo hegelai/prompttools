{
 "cells": [
  {
   "cell_type": "markdown",
   "metadata": {},
   "source": [
    "# PaLM 2 Completion Experiment Example"
   ]
  },
  {
   "cell_type": "markdown",
   "metadata": {},
   "source": [
    "## Installations"
   ]
  },
  {
   "cell_type": "code",
   "execution_count": null,
   "metadata": {},
   "outputs": [],
   "source": [
    "# !pip install --quiet --force-reinstall prompttools"
   ]
  },
  {
   "cell_type": "markdown",
   "metadata": {},
   "source": [
    "## Setup imports and API keys"
   ]
  },
  {
   "cell_type": "markdown",
   "metadata": {},
   "source": [
    "First, we'll need to set our API keys. If we are in DEBUG mode (set to `\"1\"`), we don't need to use a real PaLM key."
   ]
  },
  {
   "cell_type": "code",
   "execution_count": 1,
   "metadata": {},
   "outputs": [],
   "source": [
    "import os\n",
    "\n",
    "os.environ[\"DEBUG\"] = \"\"  # Set this to \"\" to call GOOGLE_PALM_API_KEY's API, \"1\" to use debug mode\n",
    "os.environ[\"GOOGLE_PALM_API_KEY\"] = \"\"  # Insert your key here"
   ]
  },
  {
   "cell_type": "markdown",
   "metadata": {},
   "source": [
    "Then we'll import the relevant `prompttools` modules to setup our experiment.\n",
    "\n",
    "You can also list out the PaLM models that can generate text completion."
   ]
  },
  {
   "cell_type": "code",
   "execution_count": 8,
   "metadata": {},
   "outputs": [
    {
     "data": {
      "text/plain": [
       "['models/text-bison-001']"
      ]
     },
     "execution_count": 8,
     "metadata": {},
     "output_type": "execute_result"
    }
   ],
   "source": [
    "from prompttools.experiment import GooglePaLMCompletionExperiment\n",
    "import google.generativeai as palm\n",
    "\n",
    "\n",
    "palm.configure(api_key=os.environ[\"GOOGLE_PALM_API_KEY\"])\n",
    "[m.name for m in palm.list_models() if \"generateText\" in m.supported_generation_methods]"
   ]
  },
  {
   "cell_type": "markdown",
   "metadata": {
    "ExecuteTime": {
     "end_time": "2023-07-28T21:15:15.360723Z",
     "start_time": "2023-07-28T21:15:15.230441Z"
    },
    "collapsed": true
   },
   "source": [
    "## Run an experiment"
   ]
  },
  {
   "cell_type": "markdown",
   "metadata": {},
   "source": [
    "Next, we create our test inputs. We can iterate over models, prompts, and configurations like temperature.\n"
   ]
  },
  {
   "cell_type": "code",
   "execution_count": 31,
   "metadata": {},
   "outputs": [],
   "source": [
    "models = [\"models/text-bison-001\"]\n",
    "\n",
    "prompts = [\n",
    "    \"Is 97 a prime number?\",\n",
    "    \"Answer the following question only if you know the answer or can make a well-informed guess; otherwise tell me you don't know it. Is 17077 a prime number?\",\n",
    "]\n",
    "\n",
    "temperatures = [0.0]  # [0.0, 1.0]  # You can try different temperature if you'd like.\n",
    "\n",
    "experiment = GooglePaLMCompletionExperiment(model=models, prompt=prompts, temperature=temperatures)"
   ]
  },
  {
   "cell_type": "code",
   "execution_count": 32,
   "metadata": {},
   "outputs": [
    {
     "data": {
      "text/html": [
       "<div>\n",
       "<style scoped>\n",
       "    .dataframe tbody tr th:only-of-type {\n",
       "        vertical-align: middle;\n",
       "    }\n",
       "\n",
       "    .dataframe tbody tr th {\n",
       "        vertical-align: top;\n",
       "    }\n",
       "\n",
       "    .dataframe thead th {\n",
       "        text-align: right;\n",
       "    }\n",
       "</style>\n",
       "<table border=\"1\" class=\"dataframe\">\n",
       "  <thead>\n",
       "    <tr style=\"text-align: right;\">\n",
       "      <th></th>\n",
       "      <th>prompt</th>\n",
       "      <th>response</th>\n",
       "      <th>latency</th>\n",
       "    </tr>\n",
       "  </thead>\n",
       "  <tbody>\n",
       "    <tr>\n",
       "      <th>0</th>\n",
       "      <td>Is 97 a prime number?</td>\n",
       "      <td>[yes]</td>\n",
       "      <td>0.568011</td>\n",
       "    </tr>\n",
       "    <tr>\n",
       "      <th>1</th>\n",
       "      <td>Answer the following question only if you know the answer or can make a well-informed guess; otherwise tell me you don't know it. Is 17077 a prime number?</td>\n",
       "      <td>[yes]</td>\n",
       "      <td>0.407583</td>\n",
       "    </tr>\n",
       "  </tbody>\n",
       "</table>\n",
       "</div>"
      ],
      "text/plain": [
       "                                                                                                                                                       prompt  \\\n",
       "0  Is 97 a prime number?                                                                                                                                        \n",
       "1  Answer the following question only if you know the answer or can make a well-informed guess; otherwise tell me you don't know it. Is 17077 a prime number?   \n",
       "\n",
       "  response   latency  \n",
       "0  [yes]    0.568011  \n",
       "1  [yes]    0.407583  "
      ]
     },
     "metadata": {},
     "output_type": "display_data"
    }
   ],
   "source": [
    "experiment.run()\n",
    "experiment.visualize()"
   ]
  },
  {
   "cell_type": "markdown",
   "metadata": {},
   "source": [
    "## Evaluate the model response"
   ]
  },
  {
   "cell_type": "markdown",
   "metadata": {},
   "source": [
    "To evaluate the results, we'll define an eval function. We can use semantic distance to check if the model's response is similar to our expected output."
   ]
  },
  {
   "cell_type": "code",
   "execution_count": 33,
   "metadata": {},
   "outputs": [],
   "source": [
    "from prompttools.utils import semantic_similarity"
   ]
  },
  {
   "cell_type": "code",
   "execution_count": 35,
   "metadata": {},
   "outputs": [],
   "source": [
    "experiment.evaluate(\"similar_to_expected\", semantic_similarity, expected=[\"yes\"] * 2)"
   ]
  },
  {
   "cell_type": "code",
   "execution_count": 36,
   "metadata": {},
   "outputs": [
    {
     "data": {
      "text/html": [
       "<div>\n",
       "<style scoped>\n",
       "    .dataframe tbody tr th:only-of-type {\n",
       "        vertical-align: middle;\n",
       "    }\n",
       "\n",
       "    .dataframe tbody tr th {\n",
       "        vertical-align: top;\n",
       "    }\n",
       "\n",
       "    .dataframe thead th {\n",
       "        text-align: right;\n",
       "    }\n",
       "</style>\n",
       "<table border=\"1\" class=\"dataframe\">\n",
       "  <thead>\n",
       "    <tr style=\"text-align: right;\">\n",
       "      <th></th>\n",
       "      <th>prompt</th>\n",
       "      <th>response</th>\n",
       "      <th>latency</th>\n",
       "      <th>similar_to_expected</th>\n",
       "    </tr>\n",
       "  </thead>\n",
       "  <tbody>\n",
       "    <tr>\n",
       "      <th>0</th>\n",
       "      <td>Is 97 a prime number?</td>\n",
       "      <td>[yes]</td>\n",
       "      <td>0.568011</td>\n",
       "      <td>1.0</td>\n",
       "    </tr>\n",
       "    <tr>\n",
       "      <th>1</th>\n",
       "      <td>Answer the following question only if you know the answer or can make a well-informed guess; otherwise tell me you don't know it. Is 17077 a prime number?</td>\n",
       "      <td>[yes]</td>\n",
       "      <td>0.407583</td>\n",
       "      <td>1.0</td>\n",
       "    </tr>\n",
       "  </tbody>\n",
       "</table>\n",
       "</div>"
      ],
      "text/plain": [
       "                                                                                                                                                       prompt  \\\n",
       "0  Is 97 a prime number?                                                                                                                                        \n",
       "1  Answer the following question only if you know the answer or can make a well-informed guess; otherwise tell me you don't know it. Is 17077 a prime number?   \n",
       "\n",
       "  response   latency  similar_to_expected  \n",
       "0  [yes]    0.568011  1.0                  \n",
       "1  [yes]    0.407583  1.0                  "
      ]
     },
     "metadata": {},
     "output_type": "display_data"
    }
   ],
   "source": [
    "experiment.visualize()"
   ]
  },
  {
   "cell_type": "markdown",
   "metadata": {
    "ExecuteTime": {
     "end_time": "2023-07-28T21:17:07.372233Z",
     "start_time": "2023-07-28T21:17:07.365530Z"
    }
   },
   "source": [
    "## Auto-Evaluate the model response"
   ]
  },
  {
   "cell_type": "markdown",
   "metadata": {
    "ExecuteTime": {
     "end_time": "2023-07-28T21:15:16.647264Z",
     "start_time": "2023-07-28T21:15:16.626818Z"
    }
   },
   "source": [
    "To evaluate the model response, we can define an eval method that passes a fact and the previous model response into another LLM to get feedback.\n",
    "\n",
    "In this case, we are using a built-in evaluation function `autoeval_scoring` provided within `prompttools`.\n",
    "\n",
    "The evaluation function provides a model (you can choose which model) with a fact (truth) and the previous model response. With those, the function asks the model to provide a score from 1 - 7, with a lower score means the answer is factually wrong, higher score means the answer is correct, and a medium score for uncertain answer that is not necessary wrong.\n",
    "\n",
    "You can also write your own auto-evaluation function or pick a different model to be the judge."
   ]
  },
  {
   "cell_type": "code",
   "execution_count": 38,
   "metadata": {},
   "outputs": [
    {
     "name": "stdout",
     "output_type": "stream",
     "text": [
      "huggingface/tokenizers: The current process just got forked, after parallelism has already been used. Disabling parallelism to avoid deadlocks...\n",
      "To disable this warning, you can either:\n",
      "\t- Avoid using `tokenizers` before the fork if possible\n",
      "\t- Explicitly set the environment variable TOKENIZERS_PARALLELISM=(true | false)\n",
      "huggingface/tokenizers: The current process just got forked, after parallelism has already been used. Disabling parallelism to avoid deadlocks...\n",
      "To disable this warning, you can either:\n",
      "\t- Avoid using `tokenizers` before the fork if possible\n",
      "\t- Explicitly set the environment variable TOKENIZERS_PARALLELISM=(true | false)\n"
     ]
    },
    {
     "data": {
      "text/html": [
       "<div>\n",
       "<style scoped>\n",
       "    .dataframe tbody tr th:only-of-type {\n",
       "        vertical-align: middle;\n",
       "    }\n",
       "\n",
       "    .dataframe tbody tr th {\n",
       "        vertical-align: top;\n",
       "    }\n",
       "\n",
       "    .dataframe thead th {\n",
       "        text-align: right;\n",
       "    }\n",
       "</style>\n",
       "<table border=\"1\" class=\"dataframe\">\n",
       "  <thead>\n",
       "    <tr style=\"text-align: right;\">\n",
       "      <th></th>\n",
       "      <th>prompt</th>\n",
       "      <th>response</th>\n",
       "      <th>latency</th>\n",
       "      <th>similar_to_expected</th>\n",
       "      <th>Score</th>\n",
       "    </tr>\n",
       "  </thead>\n",
       "  <tbody>\n",
       "    <tr>\n",
       "      <th>0</th>\n",
       "      <td>Is 97 a prime number?</td>\n",
       "      <td>[yes]</td>\n",
       "      <td>0.568011</td>\n",
       "      <td>1.0</td>\n",
       "      <td>7</td>\n",
       "    </tr>\n",
       "    <tr>\n",
       "      <th>1</th>\n",
       "      <td>Answer the following question only if you know the answer or can make a well-informed guess; otherwise tell me you don't know it. Is 17077 a prime number?</td>\n",
       "      <td>[yes]</td>\n",
       "      <td>0.407583</td>\n",
       "      <td>1.0</td>\n",
       "      <td>7</td>\n",
       "    </tr>\n",
       "  </tbody>\n",
       "</table>\n",
       "</div>"
      ],
      "text/plain": [
       "                                                                                                                                                       prompt  \\\n",
       "0  Is 97 a prime number?                                                                                                                                        \n",
       "1  Answer the following question only if you know the answer or can make a well-informed guess; otherwise tell me you don't know it. Is 17077 a prime number?   \n",
       "\n",
       "  response   latency  similar_to_expected  Score  \n",
       "0  [yes]    0.568011  1.0                  7      \n",
       "1  [yes]    0.407583  1.0                  7      "
      ]
     },
     "metadata": {},
     "output_type": "display_data"
    }
   ],
   "source": [
    "from prompttools.utils import autoeval_scoring\n",
    "\n",
    "os.environ[\"ANTHROPIC_API_KEY\"] = \"\"  # If you would like to use Claude 2 as the judge\n",
    "fact = \"97 and 17077 are both prime numbers, because they have no divisor aside from 1 and themselves.\"\n",
    "experiment.evaluate(\"Score\", autoeval_scoring, expected=[fact] * 2)\n",
    "experiment.visualize()"
   ]
  },
  {
   "cell_type": "markdown",
   "metadata": {},
   "source": [
    "From the scores above, we see that Claude 2 does provide low score when the model response is wrong or uncertain.\n",
    "You should also consider using a different model (such as GPT-4) as the judge."
   ]
  },
  {
   "cell_type": "code",
   "execution_count": null,
   "metadata": {},
   "outputs": [],
   "source": []
  }
 ],
 "metadata": {
  "kernelspec": {
   "display_name": "Python 3 (ipykernel)",
   "language": "python",
   "name": "python3"
  },
  "language_info": {
   "codemirror_mode": {
    "name": "ipython",
    "version": 3
   },
   "file_extension": ".py",
   "mimetype": "text/x-python",
   "name": "python",
   "nbconvert_exporter": "python",
   "pygments_lexer": "ipython3",
   "version": "3.11.4"
  }
 },
 "nbformat": 4,
 "nbformat_minor": 1
}
