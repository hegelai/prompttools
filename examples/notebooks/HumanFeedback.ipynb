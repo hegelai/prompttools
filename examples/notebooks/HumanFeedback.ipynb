{
 "cells": [
  {
   "cell_type": "markdown",
   "id": "4d8e180d",
   "metadata": {},
   "source": [
    "# Human Feedback Example"
   ]
  },
  {
   "cell_type": "markdown",
   "id": "2da96d1d",
   "metadata": {},
   "source": [
    "We have temporarily disabled the manual human feedback feature. Please open an issue or ping us on Discord if you would like to use this."
   ]
  },
  {
   "cell_type": "markdown",
   "id": "08def965",
   "metadata": {},
   "source": [
    "## Installations"
   ]
  },
  {
   "cell_type": "code",
   "execution_count": 1,
   "id": "b8821b4d",
   "metadata": {},
   "outputs": [],
   "source": [
    "# !pip install --quiet --force-reinstall prompttools"
   ]
  },
  {
   "cell_type": "markdown",
   "id": "7d598292",
   "metadata": {},
   "source": [
    "## Setup imports and API keys"
   ]
  },
  {
   "cell_type": "markdown",
   "id": "d899afc2",
   "metadata": {},
   "source": [
    "First, we'll need to set our API keys. If we are in DEBUG mode, we don't need to use a real OpenAI key, so for now we'll set them to empty strings."
   ]
  },
  {
   "cell_type": "code",
   "execution_count": 10,
   "id": "623cdd9c",
   "metadata": {},
   "outputs": [],
   "source": [
    "import os\n",
    "\n",
    "os.environ[\"DEBUG\"] = \"\"  # Set to \"1\" if you want to use debug mode.\n",
    "os.environ[\"OPENAI_API_KEY\"] = \"\""
   ]
  },
  {
   "cell_type": "markdown",
   "id": "842f1e47",
   "metadata": {},
   "source": [
    "Then we'll import the relevant `prompttools` modules to setup our experiment."
   ]
  },
  {
   "cell_type": "code",
   "execution_count": 3,
   "id": "dadc080f",
   "metadata": {},
   "outputs": [],
   "source": [
    "from prompttools.harness import PromptTemplateExperimentationHarness\n",
    "from prompttools.experiment import OpenAICompletionExperiment"
   ]
  },
  {
   "cell_type": "markdown",
   "id": "622dea9a",
   "metadata": {},
   "source": [
    "## Run experiments"
   ]
  },
  {
   "cell_type": "markdown",
   "id": "3babfe5a",
   "metadata": {},
   "source": [
    "Next, we create our test inputs. For this example, we'll use a prompt template, which uses [jinja](https://jinja.palletsprojects.com/en/3.1.x/) for templating."
   ]
  },
  {
   "cell_type": "code",
   "execution_count": 4,
   "id": "0d878c64",
   "metadata": {},
   "outputs": [],
   "source": [
    "prompt_templates = [\n",
    "    \"\"\"\n",
    "INSTRUCTIONS\n",
    "Answer the following question\n",
    "\n",
    "QUESTION\n",
    "{{input}}\n",
    "\n",
    "ANSWER\n",
    "\"\"\",\n",
    "    \"\"\"\n",
    "INSTRUCTIONS\n",
    "Answer the following question. \n",
    "If it is not prime, give its decomposition\n",
    "\n",
    "QUESTION\n",
    "{{input}}\n",
    "\n",
    "ANSWER\n",
    "\"\"\",\n",
    "]\n",
    "user_inputs = [{\"input\": \"is 17077 a prime number\"}, {\"input\": \"Is 17077 prime?\"}]"
   ]
  },
  {
   "cell_type": "markdown",
   "id": "273e9908",
   "metadata": {},
   "source": [
    "Now we can define an experimentation harness for our inputs and model. We could also pass model arguments if, for example, we wanted to change the model temperature."
   ]
  },
  {
   "cell_type": "code",
   "execution_count": 5,
   "id": "8f16f1e7",
   "metadata": {},
   "outputs": [],
   "source": [
    "harness = PromptTemplateExperimentationHarness(\n",
    "    OpenAICompletionExperiment, \"text-davinci-003\", prompt_templates, user_inputs\n",
    ")"
   ]
  },
  {
   "cell_type": "markdown",
   "id": "f3fa5450",
   "metadata": {},
   "source": [
    "We can then run the experiment to get results."
   ]
  },
  {
   "cell_type": "code",
   "execution_count": 6,
   "id": "866009ee",
   "metadata": {},
   "outputs": [
    {
     "data": {
      "text/html": [
       "<div>\n",
       "<style scoped>\n",
       "    .dataframe tbody tr th:only-of-type {\n",
       "        vertical-align: middle;\n",
       "    }\n",
       "\n",
       "    .dataframe tbody tr th {\n",
       "        vertical-align: top;\n",
       "    }\n",
       "\n",
       "    .dataframe thead th {\n",
       "        text-align: right;\n",
       "    }\n",
       "</style>\n",
       "<table border=\"1\" class=\"dataframe\">\n",
       "  <thead>\n",
       "    <tr style=\"text-align: right;\">\n",
       "      <th></th>\n",
       "      <th>prompt</th>\n",
       "      <th>response(s)</th>\n",
       "      <th>latency</th>\n",
       "    </tr>\n",
       "  </thead>\n",
       "  <tbody>\n",
       "    <tr>\n",
       "      <th>0</th>\n",
       "      <td>\\nINSTRUCTIONS\\nAnswer the following question\\n\\nQUESTION\\nis 17077 a prime number\\n\\nANSWER</td>\n",
       "      <td>[\\nNo, 17077 is not a prime number. It is divisible]</td>\n",
       "      <td>1.280017</td>\n",
       "    </tr>\n",
       "    <tr>\n",
       "      <th>1</th>\n",
       "      <td>\\nINSTRUCTIONS\\nAnswer the following question\\n\\nQUESTION\\nIs 17077 prime?\\n\\nANSWER</td>\n",
       "      <td>[\\nNo, 17077 is not a prime number. It is divisible]</td>\n",
       "      <td>0.617383</td>\n",
       "    </tr>\n",
       "    <tr>\n",
       "      <th>2</th>\n",
       "      <td>\\nINSTRUCTIONS\\nAnswer the following question. \\nIf it is not prime, give its decomposition\\n\\nQUESTION\\nis 17077 a prime number\\n\\nANSWER</td>\n",
       "      <td>[\\nNo, 17077 is not a prime number. It is equal to]</td>\n",
       "      <td>1.189366</td>\n",
       "    </tr>\n",
       "    <tr>\n",
       "      <th>3</th>\n",
       "      <td>\\nINSTRUCTIONS\\nAnswer the following question. \\nIf it is not prime, give its decomposition\\n\\nQUESTION\\nIs 17077 prime?\\n\\nANSWER</td>\n",
       "      <td>[\\nNo, 17077 is not prime. Its prime factorization is 131]</td>\n",
       "      <td>0.649805</td>\n",
       "    </tr>\n",
       "  </tbody>\n",
       "</table>\n",
       "</div>"
      ],
      "text/plain": [
       "                                                                                                                                       prompt  \\\n",
       "0  \\nINSTRUCTIONS\\nAnswer the following question\\n\\nQUESTION\\nis 17077 a prime number\\n\\nANSWER                                                 \n",
       "1  \\nINSTRUCTIONS\\nAnswer the following question\\n\\nQUESTION\\nIs 17077 prime?\\n\\nANSWER                                                         \n",
       "2  \\nINSTRUCTIONS\\nAnswer the following question. \\nIf it is not prime, give its decomposition\\n\\nQUESTION\\nis 17077 a prime number\\n\\nANSWER   \n",
       "3  \\nINSTRUCTIONS\\nAnswer the following question. \\nIf it is not prime, give its decomposition\\n\\nQUESTION\\nIs 17077 prime?\\n\\nANSWER           \n",
       "\n",
       "                                                  response(s)   latency  \n",
       "0  [\\nNo, 17077 is not a prime number. It is divisible]        1.280017  \n",
       "1  [\\nNo, 17077 is not a prime number. It is divisible]        0.617383  \n",
       "2  [\\nNo, 17077 is not a prime number. It is equal to]         1.189366  \n",
       "3  [\\nNo, 17077 is not prime. Its prime factorization is 131]  0.649805  "
      ]
     },
     "metadata": {},
     "output_type": "display_data"
    }
   ],
   "source": [
    "harness.run()\n",
    "harness.visualize()"
   ]
  },
  {
   "cell_type": "markdown",
   "id": "be9c5ef5",
   "metadata": {},
   "source": [
    "You can use the `pivot` keyword argument to view results by the template and inputs that created them."
   ]
  },
  {
   "cell_type": "code",
   "execution_count": 7,
   "id": "395c5710",
   "metadata": {
    "scrolled": true
   },
   "outputs": [
    {
     "data": {
      "text/html": [
       "<div>\n",
       "<style scoped>\n",
       "    .dataframe tbody tr th:only-of-type {\n",
       "        vertical-align: middle;\n",
       "    }\n",
       "\n",
       "    .dataframe tbody tr th {\n",
       "        vertical-align: top;\n",
       "    }\n",
       "\n",
       "    .dataframe thead th {\n",
       "        text-align: right;\n",
       "    }\n",
       "</style>\n",
       "<table border=\"1\" class=\"dataframe\">\n",
       "  <thead>\n",
       "    <tr style=\"text-align: right;\">\n",
       "      <th>prompt_template</th>\n",
       "      <th>\\nINSTRUCTIONS\\nAnswer the following question\\n\\nQUESTION\\n{{input}}\\n\\nANSWER\\n</th>\n",
       "      <th>\\nINSTRUCTIONS\\nAnswer the following question. \\nIf it is not prime, give its decomposition\\n\\nQUESTION\\n{{input}}\\n\\nANSWER\\n</th>\n",
       "    </tr>\n",
       "    <tr>\n",
       "      <th>user_input</th>\n",
       "      <th></th>\n",
       "      <th></th>\n",
       "    </tr>\n",
       "  </thead>\n",
       "  <tbody>\n",
       "    <tr>\n",
       "      <th>{'input': 'Is 17077 prime?'}</th>\n",
       "      <td>[\\nNo, 17077 is not a prime number. It is divisible]</td>\n",
       "      <td>[\\nNo, 17077 is not prime. Its prime factorization is 131]</td>\n",
       "    </tr>\n",
       "    <tr>\n",
       "      <th>{'input': 'is 17077 a prime number'}</th>\n",
       "      <td>[\\nNo, 17077 is not a prime number. It is divisible]</td>\n",
       "      <td>[\\nNo, 17077 is not a prime number. It is equal to]</td>\n",
       "    </tr>\n",
       "  </tbody>\n",
       "</table>\n",
       "</div>"
      ],
      "text/plain": [
       "prompt_template                      \\nINSTRUCTIONS\\nAnswer the following question\\n\\nQUESTION\\n{{input}}\\n\\nANSWER\\n  \\\n",
       "user_input                                                                                                              \n",
       "{'input': 'Is 17077 prime?'}          [\\nNo, 17077 is not a prime number. It is divisible]                              \n",
       "{'input': 'is 17077 a prime number'}  [\\nNo, 17077 is not a prime number. It is divisible]                              \n",
       "\n",
       "prompt_template                      \\nINSTRUCTIONS\\nAnswer the following question. \\nIf it is not prime, give its decomposition\\n\\nQUESTION\\n{{input}}\\n\\nANSWER\\n  \n",
       "user_input                                                                                                                                                           \n",
       "{'input': 'Is 17077 prime?'}          [\\nNo, 17077 is not prime. Its prime factorization is 131]                                                                     \n",
       "{'input': 'is 17077 a prime number'}  [\\nNo, 17077 is not a prime number. It is equal to]                                                                            "
      ]
     },
     "metadata": {},
     "output_type": "display_data"
    }
   ],
   "source": [
    "harness.visualize(pivot=True)"
   ]
  },
  {
   "cell_type": "markdown",
   "id": "b1abc866",
   "metadata": {},
   "source": [
    "## Evaluate with human feedback"
   ]
  },
  {
   "cell_type": "markdown",
   "id": "45a9900e",
   "metadata": {},
   "source": [
    "As an alternative to systematic evalaution, prompttools supports gathering human feedback directly in notebooks."
   ]
  },
  {
   "cell_type": "code",
   "execution_count": 8,
   "id": "c3defecd",
   "metadata": {},
   "outputs": [
    {
     "data": {
      "application/vnd.jupyter.widget-view+json": {
       "model_id": "6d3dda7dd0874046b05279a9418603bc",
       "version_major": 2,
       "version_minor": 0
      },
      "text/plain": [
       "GridBox(children=(Label(value='prompt_template'), Label(value='user_input'), Label(value='response(s)'), Label…"
      ]
     },
     "metadata": {},
     "output_type": "display_data"
    }
   ],
   "source": [
    "harness.gather_feedback()"
   ]
  },
  {
   "cell_type": "code",
   "execution_count": 9,
   "id": "cbc46550",
   "metadata": {},
   "outputs": [
    {
     "data": {
      "text/html": [
       "<div>\n",
       "<style scoped>\n",
       "    .dataframe tbody tr th:only-of-type {\n",
       "        vertical-align: middle;\n",
       "    }\n",
       "\n",
       "    .dataframe tbody tr th {\n",
       "        vertical-align: top;\n",
       "    }\n",
       "\n",
       "    .dataframe thead th {\n",
       "        text-align: right;\n",
       "    }\n",
       "</style>\n",
       "<table border=\"1\" class=\"dataframe\">\n",
       "  <thead>\n",
       "    <tr style=\"text-align: right;\">\n",
       "      <th></th>\n",
       "      <th>prompt</th>\n",
       "      <th>response(s)</th>\n",
       "      <th>latency</th>\n",
       "      <th>feedback</th>\n",
       "    </tr>\n",
       "  </thead>\n",
       "  <tbody>\n",
       "    <tr>\n",
       "      <th>0</th>\n",
       "      <td>\\nINSTRUCTIONS\\nAnswer the following question\\n\\nQUESTION\\nis 17077 a prime number\\n\\nANSWER</td>\n",
       "      <td>[\\nNo, 17077 is not a prime number. It is divisible]</td>\n",
       "      <td>1.280017</td>\n",
       "      <td>1</td>\n",
       "    </tr>\n",
       "    <tr>\n",
       "      <th>1</th>\n",
       "      <td>\\nINSTRUCTIONS\\nAnswer the following question\\n\\nQUESTION\\nIs 17077 prime?\\n\\nANSWER</td>\n",
       "      <td>[\\nNo, 17077 is not a prime number. It is divisible]</td>\n",
       "      <td>0.617383</td>\n",
       "      <td>1</td>\n",
       "    </tr>\n",
       "    <tr>\n",
       "      <th>2</th>\n",
       "      <td>\\nINSTRUCTIONS\\nAnswer the following question. \\nIf it is not prime, give its decomposition\\n\\nQUESTION\\nis 17077 a prime number\\n\\nANSWER</td>\n",
       "      <td>[\\nNo, 17077 is not a prime number. It is equal to]</td>\n",
       "      <td>1.189366</td>\n",
       "      <td>1</td>\n",
       "    </tr>\n",
       "    <tr>\n",
       "      <th>3</th>\n",
       "      <td>\\nINSTRUCTIONS\\nAnswer the following question. \\nIf it is not prime, give its decomposition\\n\\nQUESTION\\nIs 17077 prime?\\n\\nANSWER</td>\n",
       "      <td>[\\nNo, 17077 is not prime. Its prime factorization is 131]</td>\n",
       "      <td>0.649805</td>\n",
       "      <td>1</td>\n",
       "    </tr>\n",
       "  </tbody>\n",
       "</table>\n",
       "</div>"
      ],
      "text/plain": [
       "                                                                                                                                       prompt  \\\n",
       "0  \\nINSTRUCTIONS\\nAnswer the following question\\n\\nQUESTION\\nis 17077 a prime number\\n\\nANSWER                                                 \n",
       "1  \\nINSTRUCTIONS\\nAnswer the following question\\n\\nQUESTION\\nIs 17077 prime?\\n\\nANSWER                                                         \n",
       "2  \\nINSTRUCTIONS\\nAnswer the following question. \\nIf it is not prime, give its decomposition\\n\\nQUESTION\\nis 17077 a prime number\\n\\nANSWER   \n",
       "3  \\nINSTRUCTIONS\\nAnswer the following question. \\nIf it is not prime, give its decomposition\\n\\nQUESTION\\nIs 17077 prime?\\n\\nANSWER           \n",
       "\n",
       "                                                  response(s)   latency  \\\n",
       "0  [\\nNo, 17077 is not a prime number. It is divisible]        1.280017   \n",
       "1  [\\nNo, 17077 is not a prime number. It is divisible]        0.617383   \n",
       "2  [\\nNo, 17077 is not a prime number. It is equal to]         1.189366   \n",
       "3  [\\nNo, 17077 is not prime. Its prime factorization is 131]  0.649805   \n",
       "\n",
       "   feedback  \n",
       "0  1         \n",
       "1  1         \n",
       "2  1         \n",
       "3  1         "
      ]
     },
     "metadata": {},
     "output_type": "display_data"
    }
   ],
   "source": [
    "harness.visualize()"
   ]
  },
  {
   "cell_type": "code",
   "execution_count": null,
   "id": "c7c2fa6c",
   "metadata": {},
   "outputs": [],
   "source": []
  }
 ],
 "metadata": {
  "kernelspec": {
   "display_name": "Python 3 (ipykernel)",
   "language": "python",
   "name": "python3"
  },
  "language_info": {
   "codemirror_mode": {
    "name": "ipython",
    "version": 3
   },
   "file_extension": ".py",
   "mimetype": "text/x-python",
   "name": "python",
   "nbconvert_exporter": "python",
   "pygments_lexer": "ipython3",
   "version": "3.11.4"
  }
 },
 "nbformat": 4,
 "nbformat_minor": 5
}
