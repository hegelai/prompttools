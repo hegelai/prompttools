{
 "cells": [
  {
   "cell_type": "markdown",
   "id": "0a13ddc8",
   "metadata": {},
   "source": [
    "# LlamaCpp Experiment Example"
   ]
  },
  {
   "cell_type": "markdown",
   "id": "c68be7fa",
   "metadata": {},
   "source": [
    "To view this example on Google Colab, see [here](https://colab.research.google.com/github/hegelai/prompttools/blob/main/examples/notebooks/LlamaCppExperiment.ipynb)"
   ]
  },
  {
   "cell_type": "markdown",
   "id": "623f0cfe",
   "metadata": {},
   "source": [
    "## Installations"
   ]
  },
  {
   "cell_type": "code",
   "execution_count": null,
   "id": "885dabeb",
   "metadata": {},
   "outputs": [],
   "source": [
    "# !pip install --quiet --force-reinstall prompttools"
   ]
  },
  {
   "cell_type": "markdown",
   "id": "2eac35f8",
   "metadata": {},
   "source": [
    "## Setup imports and API keys"
   ]
  },
  {
   "cell_type": "markdown",
   "id": "842f1e47",
   "metadata": {},
   "source": [
    "We'll import the relevant `prompttools` modules to setup our experiment."
   ]
  },
  {
   "cell_type": "code",
   "execution_count": 2,
   "id": "beaa70a1",
   "metadata": {},
   "outputs": [],
   "source": [
    "from typing import Dict, List, Tuple\n",
    "from prompttools.experiment import LlamaCppExperiment"
   ]
  },
  {
   "cell_type": "markdown",
   "id": "622dea9a",
   "metadata": {},
   "source": [
    "## Run an experiment"
   ]
  },
  {
   "cell_type": "markdown",
   "id": "3babfe5a",
   "metadata": {},
   "source": [
    "Next, we create our test inputs. We can iterate over models, inputs, and configurations like temperature."
   ]
  },
  {
   "cell_type": "code",
   "execution_count": 3,
   "id": "9114cfbf",
   "metadata": {},
   "outputs": [],
   "source": [
    "model_paths = [\n",
    "    \"/Users/stevenkrawczyk/Downloads/llama-7b.ggmlv3.q2_K.bin\",  # Download from https://huggingface.co/TheBloke/LLaMa-7B-GGML/tree/main\n",
    "    \"/Users/stevenkrawczyk/Downloads/llama-2-7b.ggmlv3.q2_K.bin\",\n",
    "]  # Download from https://huggingface.co/TheBloke/Llama-2-7B-GGML/tree/main\n",
    "prompts = [\n",
    "    \"Who was the first president?\",\n",
    "    \"Who was the first president of the USA?\",\n",
    "]\n",
    "temperatures = [0.0, 1.0]\n",
    "\n",
    "call_params = dict(temperature=temperatures)\n",
    "\n",
    "experiment = LlamaCppExperiment(model_paths, prompts, call_params=call_params)"
   ]
  },
  {
   "cell_type": "markdown",
   "id": "f3fa5450",
   "metadata": {},
   "source": [
    "We can then run the experiment to get results."
   ]
  },
  {
   "cell_type": "code",
   "execution_count": 4,
   "id": "83b33130",
   "metadata": {},
   "outputs": [
    {
     "name": "stderr",
     "output_type": "stream",
     "text": [
      "llama.cpp: loading model from /Users/stevenkrawczyk/Downloads/llama-7b.ggmlv3.q2_K.bin\n",
      "llama_model_load_internal: format     = ggjt v3 (latest)\n",
      "llama_model_load_internal: n_vocab    = 32000\n",
      "llama_model_load_internal: n_ctx      = 512\n",
      "llama_model_load_internal: n_embd     = 4096\n",
      "llama_model_load_internal: n_mult     = 256\n",
      "llama_model_load_internal: n_head     = 32\n",
      "llama_model_load_internal: n_layer    = 32\n",
      "llama_model_load_internal: n_rot      = 128\n",
      "llama_model_load_internal: freq_base  = 10000.0\n",
      "llama_model_load_internal: freq_scale = 1\n",
      "llama_model_load_internal: ftype      = 10 (mostly Q2_K)\n",
      "llama_model_load_internal: n_ff       = 11008\n",
      "llama_model_load_internal: model size = 7B\n",
      "llama_model_load_internal: ggml ctx size =    0.08 MB\n",
      "llama_model_load_internal: mem required  = 4242.13 MB (+ 1026.00 MB per state)\n",
      "llama_new_context_with_model: kv self size  =  256.00 MB\n",
      "AVX = 1 | AVX2 = 1 | AVX512 = 0 | AVX512_VBMI = 0 | AVX512_VNNI = 0 | FMA = 1 | NEON = 0 | ARM_FMA = 0 | F16C = 1 | FP16_VA = 0 | WASM_SIMD = 0 | BLAS = 1 | SSE3 = 1 | VSX = 0 | \n",
      "\n",
      "llama_print_timings:        load time =  5031.48 ms\n",
      "llama_print_timings:      sample time =    92.91 ms /   128 runs   (    0.73 ms per token,  1377.75 tokens per second)\n",
      "llama_print_timings: prompt eval time =  5031.43 ms /     7 tokens (  718.78 ms per token,     1.39 tokens per second)\n",
      "llama_print_timings:        eval time = 14067.17 ms /   127 runs   (  110.77 ms per token,     9.03 tokens per second)\n",
      "llama_print_timings:       total time = 19521.47 ms\n",
      "Llama.generate: prefix-match hit\n",
      "\n",
      "llama_print_timings:        load time =  5031.48 ms\n",
      "llama_print_timings:      sample time =    93.08 ms /   128 runs   (    0.73 ms per token,  1375.22 tokens per second)\n",
      "llama_print_timings: prompt eval time =   363.07 ms /     4 tokens (   90.77 ms per token,    11.02 tokens per second)\n",
      "llama_print_timings:        eval time = 13469.38 ms /   127 runs   (  106.06 ms per token,     9.43 tokens per second)\n",
      "llama_print_timings:       total time = 14248.42 ms\n",
      "Llama.generate: prefix-match hit\n",
      "\n",
      "llama_print_timings:        load time =  5031.48 ms\n",
      "llama_print_timings:      sample time =    96.26 ms /   128 runs   (    0.75 ms per token,  1329.72 tokens per second)\n",
      "llama_print_timings: prompt eval time =     0.00 ms /     1 tokens (    0.00 ms per token,      inf tokens per second)\n",
      "llama_print_timings:        eval time = 14004.62 ms /   128 runs   (  109.41 ms per token,     9.14 tokens per second)\n",
      "llama_print_timings:       total time = 14426.93 ms\n",
      "Llama.generate: prefix-match hit\n",
      "\n",
      "llama_print_timings:        load time =  5031.48 ms\n",
      "llama_print_timings:      sample time =    96.15 ms /   128 runs   (    0.75 ms per token,  1331.29 tokens per second)\n",
      "llama_print_timings: prompt eval time =   361.42 ms /     4 tokens (   90.35 ms per token,    11.07 tokens per second)\n",
      "llama_print_timings:        eval time = 13440.19 ms /   127 runs   (  105.83 ms per token,     9.45 tokens per second)\n",
      "llama_print_timings:       total time = 14226.35 ms\n",
      "llama.cpp: loading model from /Users/stevenkrawczyk/Downloads/llama-2-7b.ggmlv3.q2_K.bin\n",
      "llama_model_load_internal: format     = ggjt v3 (latest)\n",
      "llama_model_load_internal: n_vocab    = 32000\n",
      "llama_model_load_internal: n_ctx      = 512\n",
      "llama_model_load_internal: n_embd     = 4096\n",
      "llama_model_load_internal: n_mult     = 256\n",
      "llama_model_load_internal: n_head     = 32\n",
      "llama_model_load_internal: n_layer    = 32\n",
      "llama_model_load_internal: n_rot      = 128\n",
      "llama_model_load_internal: freq_base  = 10000.0\n",
      "llama_model_load_internal: freq_scale = 1\n",
      "llama_model_load_internal: ftype      = 10 (mostly Q2_K)\n",
      "llama_model_load_internal: n_ff       = 11008\n",
      "llama_model_load_internal: model size = 7B\n",
      "llama_model_load_internal: ggml ctx size =    0.08 MB\n",
      "llama_model_load_internal: mem required  = 4303.65 MB (+ 1026.00 MB per state)\n",
      "llama_new_context_with_model: kv self size  =  256.00 MB\n",
      "AVX = 1 | AVX2 = 1 | AVX512 = 0 | AVX512_VBMI = 0 | AVX512_VNNI = 0 | FMA = 1 | NEON = 0 | ARM_FMA = 0 | F16C = 1 | FP16_VA = 0 | WASM_SIMD = 0 | BLAS = 1 | SSE3 = 1 | VSX = 0 | \n",
      "\n",
      "llama_print_timings:        load time =  4739.69 ms\n",
      "llama_print_timings:      sample time =    89.49 ms /   128 runs   (    0.70 ms per token,  1430.30 tokens per second)\n",
      "llama_print_timings: prompt eval time =  4739.64 ms /     7 tokens (  677.09 ms per token,     1.48 tokens per second)\n",
      "llama_print_timings:        eval time = 14308.25 ms /   127 runs   (  112.66 ms per token,     8.88 tokens per second)\n",
      "llama_print_timings:       total time = 19460.80 ms\n",
      "Llama.generate: prefix-match hit\n",
      "\n",
      "llama_print_timings:        load time =  4739.69 ms\n",
      "llama_print_timings:      sample time =    96.47 ms /   128 runs   (    0.75 ms per token,  1326.80 tokens per second)\n",
      "llama_print_timings: prompt eval time =   367.20 ms /     4 tokens (   91.80 ms per token,    10.89 tokens per second)\n",
      "llama_print_timings:        eval time = 14224.94 ms /   127 runs   (  112.01 ms per token,     8.93 tokens per second)\n",
      "llama_print_timings:       total time = 15024.69 ms\n",
      "Llama.generate: prefix-match hit\n",
      "\n",
      "llama_print_timings:        load time =  4739.69 ms\n",
      "llama_print_timings:      sample time =    98.61 ms /   128 runs   (    0.77 ms per token,  1298.06 tokens per second)\n",
      "llama_print_timings: prompt eval time =     0.00 ms /     1 tokens (    0.00 ms per token,      inf tokens per second)\n",
      "llama_print_timings:        eval time = 14171.51 ms /   128 runs   (  110.71 ms per token,     9.03 tokens per second)\n",
      "llama_print_timings:       total time = 14605.42 ms\n",
      "Llama.generate: prefix-match hit\n",
      "\n",
      "llama_print_timings:        load time =  4739.69 ms\n",
      "llama_print_timings:      sample time =    96.93 ms /   128 runs   (    0.76 ms per token,  1320.50 tokens per second)\n",
      "llama_print_timings: prompt eval time =   387.60 ms /     4 tokens (   96.90 ms per token,    10.32 tokens per second)\n",
      "llama_print_timings:        eval time = 14376.29 ms /   127 runs   (  113.20 ms per token,     8.83 tokens per second)\n",
      "llama_print_timings:       total time = 15201.25 ms\n"
     ]
    }
   ],
   "source": [
    "experiment.run()"
   ]
  },
  {
   "cell_type": "markdown",
   "id": "266c13eb",
   "metadata": {},
   "source": [
    "## Evaluate the model response"
   ]
  },
  {
   "cell_type": "markdown",
   "id": "bebb8023",
   "metadata": {},
   "source": [
    "To evaluate the results, we'll define an eval function. We can use semantic distance to check if the model's response is similar to our expected output."
   ]
  },
  {
   "cell_type": "code",
   "execution_count": 5,
   "id": "8ddbb951",
   "metadata": {},
   "outputs": [],
   "source": [
    "from prompttools.utils import semantic_similarity"
   ]
  },
  {
   "cell_type": "code",
   "execution_count": 6,
   "id": "e80dfeec",
   "metadata": {
    "scrolled": true
   },
   "outputs": [],
   "source": [
    "experiment.evaluate(\"similar_to_expected\", semantic_similarity, expected=[\"George Washington\"] * 8)"
   ]
  },
  {
   "cell_type": "markdown",
   "id": "974d6065",
   "metadata": {},
   "source": [
    "Finally, we can evaluate and visualize the results."
   ]
  },
  {
   "cell_type": "code",
   "execution_count": 7,
   "id": "4d09c18e",
   "metadata": {
    "scrolled": false
   },
   "outputs": [
    {
     "data": {
      "text/html": [
       "<div>\n",
       "<style scoped>\n",
       "    .dataframe tbody tr th:only-of-type {\n",
       "        vertical-align: middle;\n",
       "    }\n",
       "\n",
       "    .dataframe tbody tr th {\n",
       "        vertical-align: top;\n",
       "    }\n",
       "\n",
       "    .dataframe thead th {\n",
       "        text-align: right;\n",
       "    }\n",
       "</style>\n",
       "<table border=\"1\" class=\"dataframe\">\n",
       "  <thead>\n",
       "    <tr style=\"text-align: right;\">\n",
       "      <th></th>\n",
       "      <th>prompt</th>\n",
       "      <th>response(s)</th>\n",
       "      <th>latency</th>\n",
       "      <th>similar_to_expected</th>\n",
       "      <th>model_path</th>\n",
       "      <th>temperature</th>\n",
       "    </tr>\n",
       "  </thead>\n",
       "  <tbody>\n",
       "    <tr>\n",
       "      <th>0</th>\n",
       "      <td>Who was the first president?</td>\n",
       "      <td>[\\nThe first President of the United States was George Washington, who served from 1789 to 1797. He was followed by John Adams, Thomas Jefferson, James Madison, James Monroe, John Quincy Adams, Andrew Jackson, Martin Van Buren, William Henry Harrison, John Tyler, James K. Polk, Zachary Taylor, Millard Fillmore, Franklin Pierce, James Buchanan, Abraham Lincoln, Andrew Johnson, Ulysses S. Grant, Rutherford B. Hayes, James A. Garfield, Chester Arthur, Grover Cleveland,]</td>\n",
       "      <td>19.522219</td>\n",
       "      <td>0.987949</td>\n",
       "      <td>/Users/stevenkrawczyk/Downloads/llama-7b.ggmlv3.q2_K.bin</td>\n",
       "      <td>0.0</td>\n",
       "    </tr>\n",
       "    <tr>\n",
       "      <th>1</th>\n",
       "      <td>Who was the first president of the USA?</td>\n",
       "      <td>[\\nWho was the 1st President of the USA?\\nThe first president of the USA was George Washington. He served as the 1st President from 1789-1796.\\nWhat is the first president of the USA?\\nGeorge Washington, who served as the 1st President of the USA, from 1789 to 1796.\\nWho was the 1st president of the USA in 1789?\\nThe first president of the USA was George Washington, serving from 1789-1796.\\nWhat is]</td>\n",
       "      <td>14.250025</td>\n",
       "      <td>1.094129</td>\n",
       "      <td>/Users/stevenkrawczyk/Downloads/llama-7b.ggmlv3.q2_K.bin</td>\n",
       "      <td>0.0</td>\n",
       "    </tr>\n",
       "    <tr>\n",
       "      <th>2</th>\n",
       "      <td>Who was the first president?</td>\n",
       "      <td>[\\nThe 1st U.S. President George Washington became the president of the United States in 1789, the second leader elected from that year till the time the last one John Fitzgerald Kennedy on the 20th November 1963 passed away because of the assassination committed by a communist activist from Texas Lee Oswald. The first president of the United States is the only leader having had the privilege to lead the country when the constitution was ratified in the year 1787, the first constitutional amendment being created by the congress under the presiden]</td>\n",
       "      <td>14.427517</td>\n",
       "      <td>1.061807</td>\n",
       "      <td>/Users/stevenkrawczyk/Downloads/llama-7b.ggmlv3.q2_K.bin</td>\n",
       "      <td>1.0</td>\n",
       "    </tr>\n",
       "    <tr>\n",
       "      <th>3</th>\n",
       "      <td>Who was the first president of the USA?</td>\n",
       "      <td>[\\nThose who are in the process of becoming US Citizens (and those from whom that citizenship is taken for granted), will often answer by stating “George Washington, 1789-04/26/1900.” However, there were not only presidents whose names they know. Most don’t even mention Thomas Jefferson (who was the second President of the USA, and who wrote the Declaration Of Independence, thus being an important figure in American history).\\n“Thomas-Jefferson” is a person who they should actually, know more about than not. For]</td>\n",
       "      <td>14.226837</td>\n",
       "      <td>1.041451</td>\n",
       "      <td>/Users/stevenkrawczyk/Downloads/llama-7b.ggmlv3.q2_K.bin</td>\n",
       "      <td>1.0</td>\n",
       "    </tr>\n",
       "    <tr>\n",
       "      <th>4</th>\n",
       "      <td>Who was the first president?</td>\n",
       "      <td>[\\nWhat is the name of the 1st President of India?\\nWho was the first president of India?\\nWho was the first Indian president?\\nWho was the first president of India and why?\\nWho was the first president of India and what did he do?\\nWho was the first president of India and his achievements?\\nWho is the 1st President of India?\\nWho is the 2nd President of India?\\nWho is the 3rd President of India?\\nWho is the 4th President of India?\\nWho is the 5th President of India and why?\\nWho]</td>\n",
       "      <td>19.461279</td>\n",
       "      <td>1.030172</td>\n",
       "      <td>/Users/stevenkrawczyk/Downloads/llama-2-7b.ggmlv3.q2_K.bin</td>\n",
       "      <td>0.0</td>\n",
       "    </tr>\n",
       "    <tr>\n",
       "      <th>5</th>\n",
       "      <td>Who was the first president of the USA?</td>\n",
       "      <td>[\\n What is the name of the biggest lake in the world?\\nWhat is the largest country in the world?\\nWhat is the longest river in the world?\\nWhat is the highest mountain in the world?\\nWhat is the most famous building in the world?\\nWhat is the oldest city in the world?\\nWhat is the biggest desert in the world?\\nWhat is the biggest island in the world?\\nWhat is the biggest country in the world?\\nWhat is the biggest river in the world?\\nWhat is the biggest lake in the world?\\nWhat is the highest mountain in the world?\\nWhat is the]</td>\n",
       "      <td>15.025916</td>\n",
       "      <td>1.091784</td>\n",
       "      <td>/Users/stevenkrawczyk/Downloads/llama-2-7b.ggmlv3.q2_K.bin</td>\n",
       "      <td>0.0</td>\n",
       "    </tr>\n",
       "    <tr>\n",
       "      <th>6</th>\n",
       "      <td>Who was the first president?</td>\n",
       "      <td>[\\n What did George Washington do after he became President of the United States of America?\\n What happened to his wooden teeth?\\nWhen a reporter came from Great Britain and interviewed President George Washington, Washington did not think highly of the idea.\\n\"Do you realize that there is one person who has done this more than anyone else?\" Washington told a friend with regard to publicly being interviewed for the first time by a newspaper on December 16, 1784. \"This was never done before in America or Europe, and I think it will be thought ridiculous when it is known that one of]</td>\n",
       "      <td>14.605967</td>\n",
       "      <td>0.949653</td>\n",
       "      <td>/Users/stevenkrawczyk/Downloads/llama-2-7b.ggmlv3.q2_K.bin</td>\n",
       "      <td>1.0</td>\n",
       "    </tr>\n",
       "    <tr>\n",
       "      <th>7</th>\n",
       "      <td>Who was the first president of the USA?</td>\n",
       "      <td>[\\n  It is not true that there are no statues in New York City. Statue Park is in Staten Island, across the river from the big town. A huge warehouse full of human-shaped statues sits on one acre and contains around six thousand old statues (made of wood or bronze). At least four thousand pieces of art come here every year as donations to this strange park.\\nIf you drive on the highway to visit Statue Park, you will be stopped by security guards and asked what you are doing there. The security guy looks at your face, stares at]</td>\n",
       "      <td>15.202058</td>\n",
       "      <td>1.003742</td>\n",
       "      <td>/Users/stevenkrawczyk/Downloads/llama-2-7b.ggmlv3.q2_K.bin</td>\n",
       "      <td>1.0</td>\n",
       "    </tr>\n",
       "  </tbody>\n",
       "</table>\n",
       "</div>"
      ],
      "text/plain": [
       "                                    prompt  \\\n",
       "0  Who was the first president?              \n",
       "1  Who was the first president of the USA?   \n",
       "2  Who was the first president?              \n",
       "3  Who was the first president of the USA?   \n",
       "4  Who was the first president?              \n",
       "5  Who was the first president of the USA?   \n",
       "6  Who was the first president?              \n",
       "7  Who was the first president of the USA?   \n",
       "\n",
       "                                                                                                                                                                                                                                                                                                                                                                                                                                                                                                                                                                                                     response(s)  \\\n",
       "0  [\\nThe first President of the United States was George Washington, who served from 1789 to 1797. He was followed by John Adams, Thomas Jefferson, James Madison, James Monroe, John Quincy Adams, Andrew Jackson, Martin Van Buren, William Henry Harrison, John Tyler, James K. Polk, Zachary Taylor, Millard Fillmore, Franklin Pierce, James Buchanan, Abraham Lincoln, Andrew Johnson, Ulysses S. Grant, Rutherford B. Hayes, James A. Garfield, Chester Arthur, Grover Cleveland,]                                                                                                                         \n",
       "1  [\\nWho was the 1st President of the USA?\\nThe first president of the USA was George Washington. He served as the 1st President from 1789-1796.\\nWhat is the first president of the USA?\\nGeorge Washington, who served as the 1st President of the USA, from 1789 to 1796.\\nWho was the 1st president of the USA in 1789?\\nThe first president of the USA was George Washington, serving from 1789-1796.\\nWhat is]                                                                                                                                                                                              \n",
       "2  [\\nThe 1st U.S. President George Washington became the president of the United States in 1789, the second leader elected from that year till the time the last one John Fitzgerald Kennedy on the 20th November 1963 passed away because of the assassination committed by a communist activist from Texas Lee Oswald. The first president of the United States is the only leader having had the privilege to lead the country when the constitution was ratified in the year 1787, the first constitutional amendment being created by the congress under the presiden]                                       \n",
       "3  [\\nThose who are in the process of becoming US Citizens (and those from whom that citizenship is taken for granted), will often answer by stating “George Washington, 1789-04/26/1900.” However, there were not only presidents whose names they know. Most don’t even mention Thomas Jefferson (who was the second President of the USA, and who wrote the Declaration Of Independence, thus being an important figure in American history).\\n“Thomas-Jefferson” is a person who they should actually, know more about than not. For]                                                                          \n",
       "4  [\\nWhat is the name of the 1st President of India?\\nWho was the first president of India?\\nWho was the first Indian president?\\nWho was the first president of India and why?\\nWho was the first president of India and what did he do?\\nWho was the first president of India and his achievements?\\nWho is the 1st President of India?\\nWho is the 2nd President of India?\\nWho is the 3rd President of India?\\nWho is the 4th President of India?\\nWho is the 5th President of India and why?\\nWho]                                                                                                           \n",
       "5  [\\n What is the name of the biggest lake in the world?\\nWhat is the largest country in the world?\\nWhat is the longest river in the world?\\nWhat is the highest mountain in the world?\\nWhat is the most famous building in the world?\\nWhat is the oldest city in the world?\\nWhat is the biggest desert in the world?\\nWhat is the biggest island in the world?\\nWhat is the biggest country in the world?\\nWhat is the biggest river in the world?\\nWhat is the biggest lake in the world?\\nWhat is the highest mountain in the world?\\nWhat is the]                                                         \n",
       "6  [\\n What did George Washington do after he became President of the United States of America?\\n What happened to his wooden teeth?\\nWhen a reporter came from Great Britain and interviewed President George Washington, Washington did not think highly of the idea.\\n\"Do you realize that there is one person who has done this more than anyone else?\" Washington told a friend with regard to publicly being interviewed for the first time by a newspaper on December 16, 1784. \"This was never done before in America or Europe, and I think it will be thought ridiculous when it is known that one of]   \n",
       "7  [\\n  It is not true that there are no statues in New York City. Statue Park is in Staten Island, across the river from the big town. A huge warehouse full of human-shaped statues sits on one acre and contains around six thousand old statues (made of wood or bronze). At least four thousand pieces of art come here every year as donations to this strange park.\\nIf you drive on the highway to visit Statue Park, you will be stopped by security guards and asked what you are doing there. The security guy looks at your face, stares at]                                                           \n",
       "\n",
       "     latency  similar_to_expected  \\\n",
       "0  19.522219  0.987949              \n",
       "1  14.250025  1.094129              \n",
       "2  14.427517  1.061807              \n",
       "3  14.226837  1.041451              \n",
       "4  19.461279  1.030172              \n",
       "5  15.025916  1.091784              \n",
       "6  14.605967  0.949653              \n",
       "7  15.202058  1.003742              \n",
       "\n",
       "                                                   model_path  temperature  \n",
       "0  /Users/stevenkrawczyk/Downloads/llama-7b.ggmlv3.q2_K.bin    0.0          \n",
       "1  /Users/stevenkrawczyk/Downloads/llama-7b.ggmlv3.q2_K.bin    0.0          \n",
       "2  /Users/stevenkrawczyk/Downloads/llama-7b.ggmlv3.q2_K.bin    1.0          \n",
       "3  /Users/stevenkrawczyk/Downloads/llama-7b.ggmlv3.q2_K.bin    1.0          \n",
       "4  /Users/stevenkrawczyk/Downloads/llama-2-7b.ggmlv3.q2_K.bin  0.0          \n",
       "5  /Users/stevenkrawczyk/Downloads/llama-2-7b.ggmlv3.q2_K.bin  0.0          \n",
       "6  /Users/stevenkrawczyk/Downloads/llama-2-7b.ggmlv3.q2_K.bin  1.0          \n",
       "7  /Users/stevenkrawczyk/Downloads/llama-2-7b.ggmlv3.q2_K.bin  1.0          "
      ]
     },
     "metadata": {},
     "output_type": "display_data"
    }
   ],
   "source": [
    "experiment.visualize()"
   ]
  },
  {
   "cell_type": "code",
   "execution_count": null,
   "id": "c60a16c3",
   "metadata": {},
   "outputs": [],
   "source": []
  }
 ],
 "metadata": {
  "kernelspec": {
   "display_name": "Python 3 (ipykernel)",
   "language": "python",
   "name": "python3"
  },
  "language_info": {
   "codemirror_mode": {
    "name": "ipython",
    "version": 3
   },
   "file_extension": ".py",
   "mimetype": "text/x-python",
   "name": "python",
   "nbconvert_exporter": "python",
   "pygments_lexer": "ipython3",
   "version": "3.11.4"
  }
 },
 "nbformat": 4,
 "nbformat_minor": 5
}
