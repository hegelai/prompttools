{
 "cells": [
  {
   "cell_type": "markdown",
   "id": "0a13ddc8",
   "metadata": {},
   "source": [
    "# LlamaCpp Experiment Example"
   ]
  },
  {
   "cell_type": "markdown",
   "id": "623f0cfe",
   "metadata": {},
   "source": [
    "## Installations"
   ]
  },
  {
   "cell_type": "code",
   "execution_count": 1,
   "id": "885dabeb",
   "metadata": {},
   "outputs": [],
   "source": [
    "# !pip install --quiet --force-reinstall prompttools"
   ]
  },
  {
   "cell_type": "markdown",
   "id": "2eac35f8",
   "metadata": {},
   "source": [
    "## Setup imports and API keys"
   ]
  },
  {
   "cell_type": "markdown",
   "id": "5edba05a",
   "metadata": {},
   "source": [
    "First, we'll need to set our API keys. If we are in DEBUG mode, we don't need to use real Hegel AI API key, so for now we'll set them to empty strings."
   ]
  },
  {
   "cell_type": "code",
   "execution_count": 2,
   "id": "ed4e635e",
   "metadata": {},
   "outputs": [],
   "source": [
    "import os\n",
    "os.environ['HEGELAI_API_KEY'] = \"\"  # Optional, it will be needed to use with `HegelScribe` to persist/visualize your experiments"
   ]
  },
  {
   "cell_type": "markdown",
   "id": "842f1e47",
   "metadata": {},
   "source": [
    "Then we'll import the relevant `prompttools` modules to setup our experiment."
   ]
  },
  {
   "cell_type": "code",
   "execution_count": 3,
   "id": "beaa70a1",
   "metadata": {},
   "outputs": [],
   "source": [
    "from typing import Dict, List, Tuple\n",
    "from prompttools.experiment import LlamaCppExperiment"
   ]
  },
  {
   "cell_type": "markdown",
   "id": "622dea9a",
   "metadata": {},
   "source": [
    "## Run an experiment"
   ]
  },
  {
   "cell_type": "markdown",
   "id": "3babfe5a",
   "metadata": {},
   "source": [
    "Next, we create our test inputs. We can iterate over models, inputs, and configurations like temperature."
   ]
  },
  {
   "cell_type": "code",
   "execution_count": 4,
   "id": "9114cfbf",
   "metadata": {},
   "outputs": [],
   "source": [
    "model_paths = ['/your/path/to/llama-7b.ggmlv3.q2_K.bin',    # Download from https://huggingface.co/TheBloke/LLaMa-7B-GGML/tree/main\n",
    "               '/your/path/to/llama-2-7b.ggmlv3.q2_K.bin']  # Download from https://huggingface.co/TheBloke/Llama-2-7B-GGML/tree/main\n",
    "prompts = [\n",
    "    \"Who was the first president?\",\n",
    "    \"Who was the first president of India?\",\n",
    "]\n",
    "temperatures = [0.0, 1.0]\n",
    "\n",
    "call_params = dict(temperature=temperatures)\n",
    "\n",
    "experiment = LlamaCppExperiment(model_paths, prompts, call_params=call_params)"
   ]
  },
  {
   "cell_type": "markdown",
   "id": "f3fa5450",
   "metadata": {},
   "source": [
    "We can then run the experiment to get results."
   ]
  },
  {
   "cell_type": "code",
   "execution_count": 5,
   "id": "83b33130",
   "metadata": {},
   "outputs": [
    {
     "name": "stderr",
     "output_type": "stream",
     "text": [
      "llama.cpp: loading model from /Users/stevenkrawczyk/Downloads/llama-7b.ggmlv3.q2_K.bin\n",
      "llama_model_load_internal: format     = ggjt v3 (latest)\n",
      "llama_model_load_internal: n_vocab    = 32000\n",
      "llama_model_load_internal: n_ctx      = 512\n",
      "llama_model_load_internal: n_embd     = 4096\n",
      "llama_model_load_internal: n_mult     = 256\n",
      "llama_model_load_internal: n_head     = 32\n",
      "llama_model_load_internal: n_layer    = 32\n",
      "llama_model_load_internal: n_rot      = 128\n",
      "llama_model_load_internal: ftype      = 10 (mostly Q2_K)\n",
      "llama_model_load_internal: n_ff       = 11008\n",
      "llama_model_load_internal: model size = 7B\n",
      "llama_model_load_internal: ggml ctx size =    0.08 MB\n",
      "llama_model_load_internal: mem required  = 4464.12 MB (+ 1026.00 MB per state)\n",
      "llama_new_context_with_model: kv self size  =  256.00 MB\n",
      "AVX = 1 | AVX2 = 1 | AVX512 = 0 | AVX512_VBMI = 0 | AVX512_VNNI = 0 | FMA = 1 | NEON = 0 | ARM_FMA = 0 | F16C = 1 | FP16_VA = 0 | WASM_SIMD = 0 | BLAS = 1 | SSE3 = 1 | VSX = 0 | \n",
      "\n",
      "llama_print_timings:        load time =   619.96 ms\n",
      "llama_print_timings:      sample time =    99.06 ms /   128 runs   (    0.77 ms per token,  1292.19 tokens per second)\n",
      "llama_print_timings: prompt eval time =   619.91 ms /     7 tokens (   88.56 ms per token,    11.29 tokens per second)\n",
      "llama_print_timings:        eval time = 15977.01 ms /   127 runs   (  125.80 ms per token,     7.95 tokens per second)\n",
      "llama_print_timings:       total time = 17029.52 ms\n",
      "Llama.generate: prefix-match hit\n",
      "Llama.generate: prefix-match hit\n",
      "llama_print_timings:        load time =   619.96 ms\n",
      "llama_print_timings:      sample time =    98.92 ms /   128 runs   (    0.77 ms per token,  1293.97 tokens per second)\n",
      "llama_print_timings: prompt eval time =   178.94 ms /     3 tokens (   59.65 ms per token,    16.77 tokens per second)\n",
      "llama_print_timings:        eval time = 14219.15 ms /   127 runs   (  111.96 ms per token,     8.93 tokens per second)\n",
      "llama_print_timings:       total time = 14822.87 ms\n",
      "\n",
      "\n",
      "llama_print_timings:        load time =   619.96 ms\n",
      "llama_print_timings:      sample time =   101.55 ms /   128 runs   (    0.79 ms per token,  1260.44 tokens per second)\n",
      "Llama.generate: prefix-match hit\n",
      "llama_print_timings: prompt eval time =     0.00 ms /     1 tokens (    0.00 ms per token,      inf tokens per second)\n",
      "llama_print_timings:        eval time = 14026.90 ms /   128 runs   (  109.59 ms per token,     9.13 tokens per second)\n",
      "llama_print_timings:       total time = 14455.50 ms\n",
      "\n",
      "llama_print_timings:        load time =   619.96 ms\n",
      "llama_print_timings:      sample time =   103.01 ms /   128 runs   (    0.80 ms per token,  1242.60 tokens per second)\n",
      "llama_print_timings: prompt eval time =   171.15 ms /     3 tokens (   57.05 ms per token,    17.53 tokens per second)\n",
      "llama_print_timings:        eval time = 13863.93 ms /   127 runs   (  109.16 ms per token,     9.16 tokens per second)\n",
      "llama_print_timings:       total time = 14466.31 ms\n",
      "llama.cpp: loading model from /Users/stevenkrawczyk/Downloads/llama-2-7b.ggmlv3.q2_K.bin\n",
      "llama_model_load_internal: format     = ggjt v3 (latest)\n",
      "llama_model_load_internal: n_vocab    = 32000\n",
      "llama_model_load_internal: n_ctx      = 512\n",
      "llama_model_load_internal: n_embd     = 4096\n",
      "llama_model_load_internal: n_mult     = 256\n",
      "llama_model_load_internal: n_head     = 32\n",
      "llama_model_load_internal: n_layer    = 32\n",
      "llama_model_load_internal: n_rot      = 128\n",
      "llama_model_load_internal: ftype      = 10 (mostly Q2_K)\n",
      "llama_model_load_internal: n_ff       = 11008\n",
      "llama_model_load_internal: model size = 7B\n",
      "llama_model_load_internal: ggml ctx size =    0.08 MB\n",
      "llama_model_load_internal: mem required  = 4525.65 MB (+ 1026.00 MB per state)\n",
      "AVX = 1 | AVX2 = 1 | AVX512 = 0 | AVX512_VBMI = 0 | AVX512_VNNI = 0 | FMA = 1 | NEON = 0 | ARM_FMA = 0 | F16C = 1 | FP16_VA = 0 | WASM_SIMD = 0 | BLAS = 1 | SSE3 = 1 | VSX = 0 | \n",
      "llama_new_context_with_model: kv self size  =  256.00 MB\n",
      "\n",
      "llama_print_timings:        load time =   853.21 ms\n",
      "llama_print_timings:      sample time =    93.00 ms /   128 runs   (    0.73 ms per token,  1376.33 tokens per second)\n",
      "llama_print_timings: prompt eval time =   853.16 ms /     7 tokens (  121.88 ms per token,     8.20 tokens per second)\n",
      "llama_print_timings:        eval time = 14200.63 ms /   127 runs   (  111.82 ms per token,     8.94 tokens per second)\n",
      "llama_print_timings:       total time = 15462.95 ms\n",
      "Llama.generate: prefix-match hit\n",
      "Llama.generate: prefix-match hit\n",
      "llama_print_timings:        load time =   853.21 ms\n",
      "llama_print_timings:      sample time =   101.54 ms /   128 runs   (    0.79 ms per token,  1260.55 tokens per second)\n",
      "llama_print_timings: prompt eval time =   177.08 ms /     3 tokens (   59.03 ms per token,    16.94 tokens per second)\n",
      "llama_print_timings:        eval time = 14266.30 ms /   127 runs   (  112.33 ms per token,     8.90 tokens per second)\n",
      "llama_print_timings:       total time = 14881.81 ms\n",
      "\n",
      "\n",
      "llama_print_timings:        load time =   853.21 ms\n",
      "llama_print_timings:      sample time =   104.06 ms /   128 runs   (    0.81 ms per token,  1230.05 tokens per second)\n",
      "llama_print_timings: prompt eval time =     0.00 ms /     1 tokens (    0.00 ms per token,      inf tokens per second)\n",
      "llama_print_timings:        eval time = 14325.81 ms /   128 runs   (  111.92 ms per token,     8.93 tokens per second)\n",
      "llama_print_timings:       total time = 14767.72 ms\n",
      "Llama.generate: prefix-match hit\n",
      "\n",
      "llama_print_timings:        load time =   853.21 ms\n",
      "llama_print_timings:      sample time =   103.89 ms /   128 runs   (    0.81 ms per token,  1232.10 tokens per second)\n",
      "llama_print_timings: prompt eval time =   173.05 ms /     3 tokens (   57.68 ms per token,    17.34 tokens per second)\n",
      "llama_print_timings:        eval time = 14049.16 ms /   127 runs   (  110.62 ms per token,     9.04 tokens per second)\n",
      "llama_print_timings:       total time = 14662.04 ms\n"
     ]
    }
   ],
   "source": [
    "experiment.run()"
   ]
  },
  {
   "cell_type": "markdown",
   "id": "266c13eb",
   "metadata": {},
   "source": [
    "## Evaluate the model response"
   ]
  },
  {
   "cell_type": "markdown",
   "id": "bebb8023",
   "metadata": {},
   "source": [
    "To evaluate the results, we'll define an eval function. We can use semantic distance to check if the model's response is similar to our expected output."
   ]
  },
  {
   "cell_type": "code",
   "execution_count": 6,
   "id": "8ddbb951",
   "metadata": {},
   "outputs": [],
   "source": [
    "from prompttools.utils import similarity\n",
    "\n",
    "\n",
    "EXPECTED = {\"Who was the first president?\": \"George Washington\",\n",
    "            \"Who was the first president of India?\": \"Rajesh Prasad\"}\n",
    "\n",
    "def extract_responses(output) -> str:\n",
    "    return [choice[\"text\"] for choice in output[\"choices\"]]\n",
    "\n",
    "\n",
    "def measure_similarity(\n",
    "    prompt: str, results: Dict, metadata: Dict\n",
    ") -> float:\n",
    "    \"\"\"\n",
    "    A simple test that checks semantic similarity between the user input\n",
    "    and the model's text responses.\n",
    "    \"\"\"\n",
    "    distances = [\n",
    "        similarity.compute(EXPECTED[prompt], response)\n",
    "        for response in extract_responses(results)\n",
    "    ]\n",
    "    return min(distances)"
   ]
  },
  {
   "cell_type": "markdown",
   "id": "974d6065",
   "metadata": {},
   "source": [
    "Finally, we can evaluate and visualize the results."
   ]
  },
  {
   "cell_type": "code",
   "execution_count": 7,
   "id": "e80dfeec",
   "metadata": {
    "scrolled": true
   },
   "outputs": [
    {
     "name": "stderr",
     "output_type": "stream",
     "text": [
      "WARNING:chromadb.api.models.Collection:No embedding_function provided, using default embedding function: DefaultEmbeddingFunction https://huggingface.co/sentence-transformers/all-MiniLM-L6-v2\n",
      "WARNING:chromadb.api.models.Collection:No embedding_function provided, using default embedding function: DefaultEmbeddingFunction https://huggingface.co/sentence-transformers/all-MiniLM-L6-v2\n",
      "WARNING:chromadb.api.models.Collection:No embedding_function provided, using default embedding function: DefaultEmbeddingFunction https://huggingface.co/sentence-transformers/all-MiniLM-L6-v2\n",
      "WARNING:chromadb.api.models.Collection:No embedding_function provided, using default embedding function: DefaultEmbeddingFunction https://huggingface.co/sentence-transformers/all-MiniLM-L6-v2\n",
      "WARNING:chromadb.api.models.Collection:No embedding_function provided, using default embedding function: DefaultEmbeddingFunction https://huggingface.co/sentence-transformers/all-MiniLM-L6-v2\n",
      "WARNING:chromadb.api.models.Collection:No embedding_function provided, using default embedding function: DefaultEmbeddingFunction https://huggingface.co/sentence-transformers/all-MiniLM-L6-v2\n",
      "WARNING:chromadb.api.models.Collection:No embedding_function provided, using default embedding function: DefaultEmbeddingFunction https://huggingface.co/sentence-transformers/all-MiniLM-L6-v2\n",
      "WARNING:chromadb.api.models.Collection:No embedding_function provided, using default embedding function: DefaultEmbeddingFunction https://huggingface.co/sentence-transformers/all-MiniLM-L6-v2\n"
     ]
    }
   ],
   "source": [
    "experiment.evaluate(\"similar_to_expected\", measure_similarity)\n"
   ]
  },
  {
   "cell_type": "code",
   "execution_count": 8,
   "id": "4d09c18e",
   "metadata": {
    "scrolled": false
   },
   "outputs": [
    {
     "data": {
      "text/html": [
       "<div>\n",
       "<style scoped>\n",
       "    .dataframe tbody tr th:only-of-type {\n",
       "        vertical-align: middle;\n",
       "    }\n",
       "\n",
       "    .dataframe tbody tr th {\n",
       "        vertical-align: top;\n",
       "    }\n",
       "\n",
       "    .dataframe thead th {\n",
       "        text-align: right;\n",
       "    }\n",
       "</style>\n",
       "<table border=\"1\" class=\"dataframe\">\n",
       "  <thead>\n",
       "    <tr style=\"text-align: right;\">\n",
       "      <th></th>\n",
       "      <th>prompt</th>\n",
       "      <th>response(s)</th>\n",
       "      <th>latency</th>\n",
       "      <th>similar_to_expected</th>\n",
       "      <th>model_path</th>\n",
       "      <th>temperature</th>\n",
       "    </tr>\n",
       "  </thead>\n",
       "  <tbody>\n",
       "    <tr>\n",
       "      <th>0</th>\n",
       "      <td>Who was the first president?</td>\n",
       "      <td>[\\nThe first President of the United States was George Washington, who served from 1789 to 1797. He was followed by John Adams, Thomas Jefferson, James Madison, James Monroe, John Quincy Adams, Andrew Jackson, Martin Van Buren, William Henry Harrison, John Tyler, James K. Polk, Zachary Taylor, Millard Fillmore, Franklin Pierce, James Buchanan, Abraham Lincoln, Andrew Johnson, Ulysses S. Grant, Rutherford B. Hayes, James A. Garfield, Chester Arthur, Grover Cleveland,]</td>\n",
       "      <td>17.030091</td>\n",
       "      <td>0.500467</td>\n",
       "      <td>/Users/stevenkrawczyk/Downloads/llama-7b.ggmlv3.q2_K.bin</td>\n",
       "      <td>0.0</td>\n",
       "    </tr>\n",
       "    <tr>\n",
       "      <th>1</th>\n",
       "      <td>Who was the first president of India?</td>\n",
       "      <td>[\\nThe first President of Independent India, 1950-1967, was Dr. Rajendra Prasad (1884-1966). He was elected in January 1950, and served as President until January 1967.\\nWho was the first president of India?\\nThe first President of Independent India, 1950-1967, was Dr. Rajendra Prasad (1884-1966). He was elected in January 1950, and served as President until January 19]</td>\n",
       "      <td>14.823542</td>\n",
       "      <td>0.583512</td>\n",
       "      <td>/Users/stevenkrawczyk/Downloads/llama-7b.ggmlv3.q2_K.bin</td>\n",
       "      <td>0.0</td>\n",
       "    </tr>\n",
       "    <tr>\n",
       "      <th>2</th>\n",
       "      <td>Who was the first president?</td>\n",
       "      <td>[\\nThe 1st U.S. President George Washington became the president of the United States in 1789, the second leader elected from that year till the time the last one John Fitzgerald Kennedy on the 20th November 1963 passed away because of the assassination committed by a communist activist from Texas Lee Oswald. The first president of the United States is the only leader having had the privilege to lead the country when the constitution was ratified in the year 1787, the first constitutional amendment being created by the congress under the presiden]</td>\n",
       "      <td>14.455750</td>\n",
       "      <td>0.513325</td>\n",
       "      <td>/Users/stevenkrawczyk/Downloads/llama-7b.ggmlv3.q2_K.bin</td>\n",
       "      <td>1.0</td>\n",
       "    </tr>\n",
       "    <tr>\n",
       "      <th>3</th>\n",
       "      <td>Who was the first president of India?</td>\n",
       "      <td>[\\nIn Indian history, the first President of India, appointed on January 24th, 1950 (until June 3rd 1950), and then from July 3rd.\\nThe President of the Republic appointed by the High Commission under Article 8 of the Constitution was the Governor-General Dominos. The name has since changed for President of India to be elected by a body of representatives chosen in elections known as the Legislature (Sabha).\\nDominos's term expired on August 14, 1967.\\nPt Vyas]</td>\n",
       "      <td>14.466966</td>\n",
       "      <td>0.602442</td>\n",
       "      <td>/Users/stevenkrawczyk/Downloads/llama-7b.ggmlv3.q2_K.bin</td>\n",
       "      <td>1.0</td>\n",
       "    </tr>\n",
       "    <tr>\n",
       "      <th>4</th>\n",
       "      <td>Who was the first president?</td>\n",
       "      <td>[\\nWhat is the name of the 1st President of India?\\nWho was the first president of India?\\nWho was the first Indian president?\\nWho was the first president of India and why?\\nWho was the first president of India and what did he do?\\nWho was the first president of India and his achievements?\\nWho is the 1st President of India?\\nWho is the 2nd President of India?\\nWho is the 3rd President of India?\\nWho is the 4th President of India?\\nWho is the 5th President of India and why?\\nWho]</td>\n",
       "      <td>15.462945</td>\n",
       "      <td>0.824898</td>\n",
       "      <td>/Users/stevenkrawczyk/Downloads/llama-2-7b.ggmlv3.q2_K.bin</td>\n",
       "      <td>0.0</td>\n",
       "    </tr>\n",
       "    <tr>\n",
       "      <th>5</th>\n",
       "      <td>Who was the first president of India?</td>\n",
       "      <td>[\\n Sukhdev was a freedom fighter. He was born in 1907 and died in 1932. He was a revolutionary leader who fought for the independence of India. He was a member of the Hindustan Socialist Republican Association (HSRA). He was also known as Shaheed Bhagat Singh.\\nWho is the first president of India?\\nWho was the first President of India?\\nWho was the first President of India?\\nWho was the first President of India and why?\\nWho was the first President of India and what did he do?\\nWho was]</td>\n",
       "      <td>14.881875</td>\n",
       "      <td>0.603929</td>\n",
       "      <td>/Users/stevenkrawczyk/Downloads/llama-2-7b.ggmlv3.q2_K.bin</td>\n",
       "      <td>0.0</td>\n",
       "    </tr>\n",
       "    <tr>\n",
       "      <th>6</th>\n",
       "      <td>Who was the first president?</td>\n",
       "      <td>[\\n What did George Washington do after he became President of the United States of America?\\n What happened to his wooden teeth?\\nWhen a reporter came from Great Britain and interviewed President George Washington, Washington did not think highly of the idea.\\n\"Do you realize that there is one person who has done this more than anyone else?\" Washington told a friend with regard to publicly being interviewed for the first time by a newspaper on December 16, 1784. \"This was never done before in America or Europe, and I think it will be thought ridiculous when it is known that one of]</td>\n",
       "      <td>14.768546</td>\n",
       "      <td>0.454999</td>\n",
       "      <td>/Users/stevenkrawczyk/Downloads/llama-2-7b.ggmlv3.q2_K.bin</td>\n",
       "      <td>1.0</td>\n",
       "    </tr>\n",
       "    <tr>\n",
       "      <th>7</th>\n",
       "      <td>Who was the first president of India?</td>\n",
       "      <td>[\\naze.com\\nThe first President of India Shri Chandra Shekhar Azad\\nSukhpal Singh Dua\\n19th September, 1850-20/28 March, 1932) was a politician, jurist, and philosopher from Uttar Pradesh. He was also one of the leaders of the Independence Movement of India, and he had served as one of the Congress Supremo's for many years.\\nHis father Shri Keshav Lal Azad (1780-1825)]</td>\n",
       "      <td>14.662396</td>\n",
       "      <td>0.509547</td>\n",
       "      <td>/Users/stevenkrawczyk/Downloads/llama-2-7b.ggmlv3.q2_K.bin</td>\n",
       "      <td>1.0</td>\n",
       "    </tr>\n",
       "  </tbody>\n",
       "</table>\n",
       "</div>"
      ],
      "text/plain": [
       "                                  prompt   \n",
       "0  Who was the first president?           \\\n",
       "1  Who was the first president of India?   \n",
       "2  Who was the first president?            \n",
       "3  Who was the first president of India?   \n",
       "4  Who was the first president?            \n",
       "5  Who was the first president of India?   \n",
       "6  Who was the first president?            \n",
       "7  Who was the first president of India?   \n",
       "\n",
       "                                                                                                                                                                                                                                                                                                                                                                                                                                                                                                                                                                                                     response(s)   \n",
       "0  [\\nThe first President of the United States was George Washington, who served from 1789 to 1797. He was followed by John Adams, Thomas Jefferson, James Madison, James Monroe, John Quincy Adams, Andrew Jackson, Martin Van Buren, William Henry Harrison, John Tyler, James K. Polk, Zachary Taylor, Millard Fillmore, Franklin Pierce, James Buchanan, Abraham Lincoln, Andrew Johnson, Ulysses S. Grant, Rutherford B. Hayes, James A. Garfield, Chester Arthur, Grover Cleveland,]                                                                                                                        \\\n",
       "1  [\\nThe first President of Independent India, 1950-1967, was Dr. Rajendra Prasad (1884-1966). He was elected in January 1950, and served as President until January 1967.\\nWho was the first president of India?\\nThe first President of Independent India, 1950-1967, was Dr. Rajendra Prasad (1884-1966). He was elected in January 1950, and served as President until January 19]                                                                                                                                                                                                                            \n",
       "2  [\\nThe 1st U.S. President George Washington became the president of the United States in 1789, the second leader elected from that year till the time the last one John Fitzgerald Kennedy on the 20th November 1963 passed away because of the assassination committed by a communist activist from Texas Lee Oswald. The first president of the United States is the only leader having had the privilege to lead the country when the constitution was ratified in the year 1787, the first constitutional amendment being created by the congress under the presiden]                                       \n",
       "3  [\\nIn Indian history, the first President of India, appointed on January 24th, 1950 (until June 3rd 1950), and then from July 3rd.\\nThe President of the Republic appointed by the High Commission under Article 8 of the Constitution was the Governor-General Dominos. The name has since changed for President of India to be elected by a body of representatives chosen in elections known as the Legislature (Sabha).\\nDominos's term expired on August 14, 1967.\\nPt Vyas]                                                                                                                               \n",
       "4  [\\nWhat is the name of the 1st President of India?\\nWho was the first president of India?\\nWho was the first Indian president?\\nWho was the first president of India and why?\\nWho was the first president of India and what did he do?\\nWho was the first president of India and his achievements?\\nWho is the 1st President of India?\\nWho is the 2nd President of India?\\nWho is the 3rd President of India?\\nWho is the 4th President of India?\\nWho is the 5th President of India and why?\\nWho]                                                                                                           \n",
       "5  [\\n Sukhdev was a freedom fighter. He was born in 1907 and died in 1932. He was a revolutionary leader who fought for the independence of India. He was a member of the Hindustan Socialist Republican Association (HSRA). He was also known as Shaheed Bhagat Singh.\\nWho is the first president of India?\\nWho was the first President of India?\\nWho was the first President of India?\\nWho was the first President of India and why?\\nWho was the first President of India and what did he do?\\nWho was]                                                                                                    \n",
       "6  [\\n What did George Washington do after he became President of the United States of America?\\n What happened to his wooden teeth?\\nWhen a reporter came from Great Britain and interviewed President George Washington, Washington did not think highly of the idea.\\n\"Do you realize that there is one person who has done this more than anyone else?\" Washington told a friend with regard to publicly being interviewed for the first time by a newspaper on December 16, 1784. \"This was never done before in America or Europe, and I think it will be thought ridiculous when it is known that one of]   \n",
       "7  [\\naze.com\\nThe first President of India Shri Chandra Shekhar Azad\\nSukhpal Singh Dua\\n19th September, 1850-20/28 March, 1932) was a politician, jurist, and philosopher from Uttar Pradesh. He was also one of the leaders of the Independence Movement of India, and he had served as one of the Congress Supremo's for many years.\\nHis father Shri Keshav Lal Azad (1780-1825)]                                                                                                                                                                                                                             \n",
       "\n",
       "     latency  similar_to_expected   \n",
       "0  17.030091  0.500467             \\\n",
       "1  14.823542  0.583512              \n",
       "2  14.455750  0.513325              \n",
       "3  14.466966  0.602442              \n",
       "4  15.462945  0.824898              \n",
       "5  14.881875  0.603929              \n",
       "6  14.768546  0.454999              \n",
       "7  14.662396  0.509547              \n",
       "\n",
       "                                                   model_path  temperature  \n",
       "0  /Users/stevenkrawczyk/Downloads/llama-7b.ggmlv3.q2_K.bin    0.0          \n",
       "1  /Users/stevenkrawczyk/Downloads/llama-7b.ggmlv3.q2_K.bin    0.0          \n",
       "2  /Users/stevenkrawczyk/Downloads/llama-7b.ggmlv3.q2_K.bin    1.0          \n",
       "3  /Users/stevenkrawczyk/Downloads/llama-7b.ggmlv3.q2_K.bin    1.0          \n",
       "4  /Users/stevenkrawczyk/Downloads/llama-2-7b.ggmlv3.q2_K.bin  0.0          \n",
       "5  /Users/stevenkrawczyk/Downloads/llama-2-7b.ggmlv3.q2_K.bin  0.0          \n",
       "6  /Users/stevenkrawczyk/Downloads/llama-2-7b.ggmlv3.q2_K.bin  1.0          \n",
       "7  /Users/stevenkrawczyk/Downloads/llama-2-7b.ggmlv3.q2_K.bin  1.0          "
      ]
     },
     "metadata": {},
     "output_type": "display_data"
    }
   ],
   "source": [
    "experiment.visualize()"
   ]
  },
  {
   "cell_type": "code",
   "execution_count": null,
   "id": "c60a16c3",
   "metadata": {},
   "outputs": [],
   "source": []
  }
 ],
 "metadata": {
  "kernelspec": {
   "display_name": "Python 3 (ipykernel)",
   "language": "python",
   "name": "python3"
  },
  "language_info": {
   "codemirror_mode": {
    "name": "ipython",
    "version": 3
   },
   "file_extension": ".py",
   "mimetype": "text/x-python",
   "name": "python",
   "nbconvert_exporter": "python",
   "pygments_lexer": "ipython3",
   "version": "3.11.4"
  }
 },
 "nbformat": 4,
 "nbformat_minor": 5
}
