{
 "cells": [
  {
   "cell_type": "code",
   "execution_count": null,
   "id": "0e5c2541",
   "metadata": {},
   "outputs": [],
   "source": [
    "from prompttools.experiment import OpenAIChatExperiment\n",
    "from prompttools.harness import SystemPromptExperimentationHarness, ChatPromptTemplateExperimentationHarness, ModelComparisonHarness\n",
    "\n",
    "import os\n",
    "\n",
    "os.environ[\"OPENAI_API_KEY\"] = \"\"\n",
    "os.environ[\"HEGELAI_API_KEY\"] = \"\""
   ]
  },
  {
   "cell_type": "code",
   "execution_count": null,
   "id": "8a2f5d30",
   "metadata": {},
   "outputs": [],
   "source": [
    "EXPERIMENT_ID = \"\""
   ]
  },
  {
   "cell_type": "code",
   "execution_count": 5,
   "id": "c4fea464",
   "metadata": {},
   "outputs": [
    {
     "name": "stdout",
     "output_type": "stream",
     "text": [
      "Sending HTTP GET request...\n",
      "Loaded experiment.\n",
      "Loaded harness.\n"
     ]
    }
   ],
   "source": [
    "experiment = SystemPromptExperimentationHarness.load_experiment(EXPERIMENT_ID)"
   ]
  },
  {
   "cell_type": "code",
   "execution_count": null,
   "id": "2fd11c4d",
   "metadata": {},
   "outputs": [],
   "source": [
    "harness.visualize()"
   ]
  },
  {
   "cell_type": "code",
   "execution_count": null,
   "id": "e7fc8330",
   "metadata": {},
   "outputs": [],
   "source": [
    "def word_count(row: pandas.core.series.Series, response_column_name: str = \"response\") -> int:\n",
    "    return len(row[response_column_name].split())"
   ]
  },
  {
   "cell_type": "code",
   "execution_count": null,
   "id": "c6dd7545",
   "metadata": {},
   "outputs": [],
   "source": [
    "harness.evaluate(\"word_count\", word_count)"
   ]
  },
  {
   "cell_type": "code",
   "execution_count": 2,
   "id": "ceebff99",
   "metadata": {},
   "outputs": [],
   "source": [
    "harness.visualize()"
   ]
  },
  {
   "cell_type": "code",
   "execution_count": null,
   "id": "f6002a6f",
   "metadata": {},
   "outputs": [],
   "source": [
    "harness.save_experiment(\"Demo\")"
   ]
  },
  {
   "cell_type": "code",
   "execution_count": null,
   "id": "fc257a21",
   "metadata": {},
   "outputs": [],
   "source": []
  }
 ],
 "metadata": {
  "kernelspec": {
   "display_name": "Python 3 (ipykernel)",
   "language": "python",
   "name": "python3"
  },
  "language_info": {
   "codemirror_mode": {
    "name": "ipython",
    "version": 3
   },
   "file_extension": ".py",
   "mimetype": "text/x-python",
   "name": "python",
   "nbconvert_exporter": "python",
   "pygments_lexer": "ipython3",
   "version": "3.11.4"
  }
 },
 "nbformat": 4,
 "nbformat_minor": 5
}
